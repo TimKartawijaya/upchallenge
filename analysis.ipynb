{
 "cells": [
  {
   "cell_type": "code",
   "execution_count": 1,
   "metadata": {},
   "outputs": [],
   "source": [
    "import pandas as pd\n",
    "import numpy as np\n",
    "import seaborn as sns\n",
    "import matplotlib.pyplot as plt\n"
   ]
  },
  {
   "cell_type": "markdown",
   "metadata": {},
   "source": [
    "Below is the framework we will use to analyze the data:\n",
    "1. Look at the big picture.\n",
    "2. Get the Data.\n",
    "3. Discover and Visualize data to gain insights (EDA).\n",
    "4. Preprocess the data.\n",
    "5. Select a Model and train/finetune it.\n",
    "6. Evaluate the model.\n",
    "7. Predict the test set. "
   ]
  },
  {
   "cell_type": "markdown",
   "metadata": {},
   "source": [
    "# 1. Big Picture\n",
    "\n",
    "Our objective is to **identify which potential donors** the charity should contact in order to **maximize profitability of marketing campaign.**\n",
    "\n",
    "From the given data, it looks like we will need to do some **supervised classification** to predict which donor will give us profit, meaning which donors have a positive gain when *amount - marketingCost*. Furthermore, we would need to have some interpretability to explain how we came up with that prediction i.e. what predictors we value most, etc, to communicate to our partners why our prediction is correct. "
   ]
  },
  {
   "cell_type": "markdown",
   "metadata": {},
   "source": [
    "# 2. Get the Data"
   ]
  },
  {
   "cell_type": "markdown",
   "metadata": {},
   "source": [
    "First, we load the train, test datasets, and the zipcode dataset."
   ]
  },
  {
   "cell_type": "code",
   "execution_count": 2,
   "metadata": {},
   "outputs": [
    {
     "name": "stderr",
     "output_type": "stream",
     "text": [
      "/home/tim_kartawijaya/anaconda3/lib/python3.6/site-packages/IPython/core/interactiveshell.py:2785: DtypeWarning: Columns (8) have mixed types. Specify dtype option on import or set low_memory=False.\n",
      "  interactivity=interactivity, compiler=compiler, result=result)\n"
     ]
    }
   ],
   "source": [
    "train = pd.read_csv(\"train.csv\")\n",
    "test = pd.read_csv(\"test.csv\")\n",
    "zipcode = pd.read_csv(\"zipCodeMarketingCosts.csv\")"
   ]
  },
  {
   "cell_type": "markdown",
   "metadata": {},
   "source": [
    "Now, let's take a peek at all the datasets."
   ]
  },
  {
   "cell_type": "code",
   "execution_count": 3,
   "metadata": {},
   "outputs": [
    {
     "data": {
      "text/html": [
       "<div>\n",
       "<style scoped>\n",
       "    .dataframe tbody tr th:only-of-type {\n",
       "        vertical-align: middle;\n",
       "    }\n",
       "\n",
       "    .dataframe tbody tr th {\n",
       "        vertical-align: top;\n",
       "    }\n",
       "\n",
       "    .dataframe thead th {\n",
       "        text-align: right;\n",
       "    }\n",
       "</style>\n",
       "<table border=\"1\" class=\"dataframe\">\n",
       "  <thead>\n",
       "    <tr style=\"text-align: right;\">\n",
       "      <th></th>\n",
       "      <th>date</th>\n",
       "      <th>source</th>\n",
       "      <th>title</th>\n",
       "      <th>state</th>\n",
       "      <th>zip</th>\n",
       "      <th>mailcode</th>\n",
       "      <th>has_chapter</th>\n",
       "      <th>dob</th>\n",
       "      <th>noexch</th>\n",
       "      <th>recinhse</th>\n",
       "      <th>...</th>\n",
       "      <th>amount</th>\n",
       "      <th>hphone_d</th>\n",
       "      <th>rfa_2r</th>\n",
       "      <th>rfa_2f</th>\n",
       "      <th>rfa_2a</th>\n",
       "      <th>mdmaud_r</th>\n",
       "      <th>mdmaud_f</th>\n",
       "      <th>mdmaud_a</th>\n",
       "      <th>cluster2</th>\n",
       "      <th>geocode2</th>\n",
       "    </tr>\n",
       "  </thead>\n",
       "  <tbody>\n",
       "    <tr>\n",
       "      <th>0</th>\n",
       "      <td>9101</td>\n",
       "      <td>IMA</td>\n",
       "      <td>0</td>\n",
       "      <td>KY</td>\n",
       "      <td>40207-</td>\n",
       "      <td></td>\n",
       "      <td></td>\n",
       "      <td>6901</td>\n",
       "      <td>0</td>\n",
       "      <td></td>\n",
       "      <td>...</td>\n",
       "      <td>NaN</td>\n",
       "      <td>0</td>\n",
       "      <td>L</td>\n",
       "      <td>3</td>\n",
       "      <td>D</td>\n",
       "      <td>X</td>\n",
       "      <td>X</td>\n",
       "      <td>X</td>\n",
       "      <td>4.0</td>\n",
       "      <td>B</td>\n",
       "    </tr>\n",
       "    <tr>\n",
       "      <th>1</th>\n",
       "      <td>8601</td>\n",
       "      <td>LIS</td>\n",
       "      <td>2</td>\n",
       "      <td>MI</td>\n",
       "      <td>48504</td>\n",
       "      <td></td>\n",
       "      <td></td>\n",
       "      <td>4101</td>\n",
       "      <td>0</td>\n",
       "      <td></td>\n",
       "      <td>...</td>\n",
       "      <td>NaN</td>\n",
       "      <td>0</td>\n",
       "      <td>L</td>\n",
       "      <td>2</td>\n",
       "      <td>F</td>\n",
       "      <td>X</td>\n",
       "      <td>X</td>\n",
       "      <td>X</td>\n",
       "      <td>49.0</td>\n",
       "      <td>B</td>\n",
       "    </tr>\n",
       "    <tr>\n",
       "      <th>2</th>\n",
       "      <td>9601</td>\n",
       "      <td>AGS</td>\n",
       "      <td>28</td>\n",
       "      <td>WA</td>\n",
       "      <td>99218</td>\n",
       "      <td></td>\n",
       "      <td></td>\n",
       "      <td>0</td>\n",
       "      <td>0</td>\n",
       "      <td></td>\n",
       "      <td>...</td>\n",
       "      <td>NaN</td>\n",
       "      <td>0</td>\n",
       "      <td>L</td>\n",
       "      <td>3</td>\n",
       "      <td>E</td>\n",
       "      <td>X</td>\n",
       "      <td>X</td>\n",
       "      <td>X</td>\n",
       "      <td>48.0</td>\n",
       "      <td>B</td>\n",
       "    </tr>\n",
       "    <tr>\n",
       "      <th>3</th>\n",
       "      <td>9101</td>\n",
       "      <td>NAD</td>\n",
       "      <td>2</td>\n",
       "      <td>NM</td>\n",
       "      <td>88201</td>\n",
       "      <td>B</td>\n",
       "      <td></td>\n",
       "      <td>5201</td>\n",
       "      <td>0</td>\n",
       "      <td></td>\n",
       "      <td>...</td>\n",
       "      <td>34.0</td>\n",
       "      <td>0</td>\n",
       "      <td>L</td>\n",
       "      <td>1</td>\n",
       "      <td>F</td>\n",
       "      <td>X</td>\n",
       "      <td>X</td>\n",
       "      <td>X</td>\n",
       "      <td>39.0</td>\n",
       "      <td>C</td>\n",
       "    </tr>\n",
       "    <tr>\n",
       "      <th>4</th>\n",
       "      <td>9201</td>\n",
       "      <td>FRC</td>\n",
       "      <td>0</td>\n",
       "      <td>AL</td>\n",
       "      <td>35603</td>\n",
       "      <td></td>\n",
       "      <td></td>\n",
       "      <td>4301</td>\n",
       "      <td>0</td>\n",
       "      <td></td>\n",
       "      <td>...</td>\n",
       "      <td>NaN</td>\n",
       "      <td>0</td>\n",
       "      <td>L</td>\n",
       "      <td>1</td>\n",
       "      <td>G</td>\n",
       "      <td>X</td>\n",
       "      <td>X</td>\n",
       "      <td>X</td>\n",
       "      <td>16.0</td>\n",
       "      <td>C</td>\n",
       "    </tr>\n",
       "  </tbody>\n",
       "</table>\n",
       "<p>5 rows × 481 columns</p>\n",
       "</div>"
      ],
      "text/plain": [
       "   date source  title state     zip mailcode has_chapter   dob noexch  \\\n",
       "0  9101    IMA      0    KY  40207-                       6901      0   \n",
       "1  8601    LIS      2    MI   48504                       4101      0   \n",
       "2  9601    AGS     28    WA   99218                          0      0   \n",
       "3  9101    NAD      2    NM   88201        B              5201      0   \n",
       "4  9201    FRC      0    AL   35603                       4301      0   \n",
       "\n",
       "  recinhse   ...    amount hphone_d rfa_2r rfa_2f rfa_2a mdmaud_r  mdmaud_f  \\\n",
       "0            ...       NaN        0      L      3      D        X         X   \n",
       "1            ...       NaN        0      L      2      F        X         X   \n",
       "2            ...       NaN        0      L      3      E        X         X   \n",
       "3            ...      34.0        0      L      1      F        X         X   \n",
       "4            ...       NaN        0      L      1      G        X         X   \n",
       "\n",
       "  mdmaud_a cluster2 geocode2  \n",
       "0        X      4.0        B  \n",
       "1        X     49.0        B  \n",
       "2        X     48.0        B  \n",
       "3        X     39.0        C  \n",
       "4        X     16.0        C  \n",
       "\n",
       "[5 rows x 481 columns]"
      ]
     },
     "execution_count": 3,
     "metadata": {},
     "output_type": "execute_result"
    }
   ],
   "source": [
    "train.head()"
   ]
  },
  {
   "cell_type": "code",
   "execution_count": 4,
   "metadata": {},
   "outputs": [
    {
     "data": {
      "text/html": [
       "<div>\n",
       "<style scoped>\n",
       "    .dataframe tbody tr th:only-of-type {\n",
       "        vertical-align: middle;\n",
       "    }\n",
       "\n",
       "    .dataframe tbody tr th {\n",
       "        vertical-align: top;\n",
       "    }\n",
       "\n",
       "    .dataframe thead th {\n",
       "        text-align: right;\n",
       "    }\n",
       "</style>\n",
       "<table border=\"1\" class=\"dataframe\">\n",
       "  <thead>\n",
       "    <tr style=\"text-align: right;\">\n",
       "      <th></th>\n",
       "      <th>date</th>\n",
       "      <th>source</th>\n",
       "      <th>title</th>\n",
       "      <th>state</th>\n",
       "      <th>zip</th>\n",
       "      <th>mailcode</th>\n",
       "      <th>has_chapter</th>\n",
       "      <th>dob</th>\n",
       "      <th>noexch</th>\n",
       "      <th>recinhse</th>\n",
       "      <th>...</th>\n",
       "      <th>hphone_d</th>\n",
       "      <th>rfa_2r</th>\n",
       "      <th>rfa_2f</th>\n",
       "      <th>rfa_2a</th>\n",
       "      <th>mdmaud_r</th>\n",
       "      <th>mdmaud_f</th>\n",
       "      <th>mdmaud_a</th>\n",
       "      <th>cluster2</th>\n",
       "      <th>geocode2</th>\n",
       "      <th>market</th>\n",
       "    </tr>\n",
       "  </thead>\n",
       "  <tbody>\n",
       "    <tr>\n",
       "      <th>0</th>\n",
       "      <td>9301</td>\n",
       "      <td>TRE</td>\n",
       "      <td>1</td>\n",
       "      <td>FL</td>\n",
       "      <td>34461</td>\n",
       "      <td></td>\n",
       "      <td></td>\n",
       "      <td>2001</td>\n",
       "      <td>0</td>\n",
       "      <td></td>\n",
       "      <td>...</td>\n",
       "      <td>1</td>\n",
       "      <td>L</td>\n",
       "      <td>2</td>\n",
       "      <td>F</td>\n",
       "      <td>X</td>\n",
       "      <td>X</td>\n",
       "      <td>X</td>\n",
       "      <td>52.0</td>\n",
       "      <td>C</td>\n",
       "      <td>NaN</td>\n",
       "    </tr>\n",
       "    <tr>\n",
       "      <th>1</th>\n",
       "      <td>9101</td>\n",
       "      <td>PV3</td>\n",
       "      <td>1002</td>\n",
       "      <td>CA</td>\n",
       "      <td>91106</td>\n",
       "      <td></td>\n",
       "      <td></td>\n",
       "      <td>0</td>\n",
       "      <td>0</td>\n",
       "      <td></td>\n",
       "      <td>...</td>\n",
       "      <td>0</td>\n",
       "      <td>L</td>\n",
       "      <td>1</td>\n",
       "      <td>F</td>\n",
       "      <td>X</td>\n",
       "      <td>X</td>\n",
       "      <td>X</td>\n",
       "      <td>24.0</td>\n",
       "      <td>A</td>\n",
       "      <td>NaN</td>\n",
       "    </tr>\n",
       "    <tr>\n",
       "      <th>2</th>\n",
       "      <td>8601</td>\n",
       "      <td>MBC</td>\n",
       "      <td>0</td>\n",
       "      <td>MN</td>\n",
       "      <td>56470</td>\n",
       "      <td></td>\n",
       "      <td></td>\n",
       "      <td>4305</td>\n",
       "      <td>0</td>\n",
       "      <td></td>\n",
       "      <td>...</td>\n",
       "      <td>0</td>\n",
       "      <td>L</td>\n",
       "      <td>3</td>\n",
       "      <td>D</td>\n",
       "      <td>X</td>\n",
       "      <td>X</td>\n",
       "      <td>X</td>\n",
       "      <td>59.0</td>\n",
       "      <td>D</td>\n",
       "      <td>NaN</td>\n",
       "    </tr>\n",
       "    <tr>\n",
       "      <th>3</th>\n",
       "      <td>8601</td>\n",
       "      <td>BHG</td>\n",
       "      <td>0</td>\n",
       "      <td>IN</td>\n",
       "      <td>47441</td>\n",
       "      <td></td>\n",
       "      <td></td>\n",
       "      <td>0</td>\n",
       "      <td>0</td>\n",
       "      <td></td>\n",
       "      <td>...</td>\n",
       "      <td>0</td>\n",
       "      <td>L</td>\n",
       "      <td>4</td>\n",
       "      <td>D</td>\n",
       "      <td>X</td>\n",
       "      <td>X</td>\n",
       "      <td>X</td>\n",
       "      <td>59.0</td>\n",
       "      <td>D</td>\n",
       "      <td>NaN</td>\n",
       "    </tr>\n",
       "    <tr>\n",
       "      <th>4</th>\n",
       "      <td>9501</td>\n",
       "      <td>AIR</td>\n",
       "      <td>0</td>\n",
       "      <td>NC</td>\n",
       "      <td>28906</td>\n",
       "      <td></td>\n",
       "      <td></td>\n",
       "      <td>4201</td>\n",
       "      <td>0</td>\n",
       "      <td></td>\n",
       "      <td>...</td>\n",
       "      <td>0</td>\n",
       "      <td>L</td>\n",
       "      <td>1</td>\n",
       "      <td>F</td>\n",
       "      <td>X</td>\n",
       "      <td>X</td>\n",
       "      <td>X</td>\n",
       "      <td>60.0</td>\n",
       "      <td>D</td>\n",
       "      <td>NaN</td>\n",
       "    </tr>\n",
       "  </tbody>\n",
       "</table>\n",
       "<p>5 rows × 480 columns</p>\n",
       "</div>"
      ],
      "text/plain": [
       "   date source  title state    zip mailcode has_chapter   dob noexch recinhse  \\\n",
       "0  9301    TRE      1    FL  34461                       2001      0            \n",
       "1  9101    PV3   1002    CA  91106                          0      0            \n",
       "2  8601    MBC      0    MN  56470                       4305      0            \n",
       "3  8601    BHG      0    IN  47441                          0      0            \n",
       "4  9501    AIR      0    NC  28906                       4201      0            \n",
       "\n",
       "   ...   hphone_d rfa_2r rfa_2f rfa_2a mdmaud_r mdmaud_f  mdmaud_a cluster2  \\\n",
       "0  ...          1      L      2      F        X        X         X     52.0   \n",
       "1  ...          0      L      1      F        X        X         X     24.0   \n",
       "2  ...          0      L      3      D        X        X         X     59.0   \n",
       "3  ...          0      L      4      D        X        X         X     59.0   \n",
       "4  ...          0      L      1      F        X        X         X     60.0   \n",
       "\n",
       "  geocode2 market  \n",
       "0        C    NaN  \n",
       "1        A    NaN  \n",
       "2        D    NaN  \n",
       "3        D    NaN  \n",
       "4        D    NaN  \n",
       "\n",
       "[5 rows x 480 columns]"
      ]
     },
     "execution_count": 4,
     "metadata": {},
     "output_type": "execute_result"
    }
   ],
   "source": [
    "test.head()"
   ]
  },
  {
   "cell_type": "code",
   "execution_count": 5,
   "metadata": {},
   "outputs": [
    {
     "data": {
      "text/html": [
       "<div>\n",
       "<style scoped>\n",
       "    .dataframe tbody tr th:only-of-type {\n",
       "        vertical-align: middle;\n",
       "    }\n",
       "\n",
       "    .dataframe tbody tr th {\n",
       "        vertical-align: top;\n",
       "    }\n",
       "\n",
       "    .dataframe thead th {\n",
       "        text-align: right;\n",
       "    }\n",
       "</style>\n",
       "<table border=\"1\" class=\"dataframe\">\n",
       "  <thead>\n",
       "    <tr style=\"text-align: right;\">\n",
       "      <th></th>\n",
       "      <th>marketingCost</th>\n",
       "      <th>zip</th>\n",
       "    </tr>\n",
       "  </thead>\n",
       "  <tbody>\n",
       "    <tr>\n",
       "      <th>0</th>\n",
       "      <td>2.53</td>\n",
       "      <td>35236</td>\n",
       "    </tr>\n",
       "    <tr>\n",
       "      <th>1</th>\n",
       "      <td>2.63</td>\n",
       "      <td>35541</td>\n",
       "    </tr>\n",
       "    <tr>\n",
       "      <th>2</th>\n",
       "      <td>1.73</td>\n",
       "      <td>35542</td>\n",
       "    </tr>\n",
       "    <tr>\n",
       "      <th>3</th>\n",
       "      <td>3.92</td>\n",
       "      <td>35235</td>\n",
       "    </tr>\n",
       "    <tr>\n",
       "      <th>4</th>\n",
       "      <td>2.32</td>\n",
       "      <td>35232</td>\n",
       "    </tr>\n",
       "  </tbody>\n",
       "</table>\n",
       "</div>"
      ],
      "text/plain": [
       "   marketingCost    zip\n",
       "0           2.53  35236\n",
       "1           2.63  35541\n",
       "2           1.73  35542\n",
       "3           3.92  35235\n",
       "4           2.32  35232"
      ]
     },
     "execution_count": 5,
     "metadata": {},
     "output_type": "execute_result"
    }
   ],
   "source": [
    "zipcode.head()"
   ]
  },
  {
   "cell_type": "markdown",
   "metadata": {},
   "source": [
    "Lets look at the size of the datasets"
   ]
  },
  {
   "cell_type": "code",
   "execution_count": 6,
   "metadata": {},
   "outputs": [
    {
     "name": "stdout",
     "output_type": "stream",
     "text": [
      "(182190, 481)\n",
      "(9589, 480)\n",
      "(20265, 2)\n"
     ]
    }
   ],
   "source": [
    "print(train.shape)\n",
    "print(test.shape)\n",
    "print(zipcode.shape)"
   ]
  },
  {
   "cell_type": "markdown",
   "metadata": {},
   "source": [
    "Look's like there's a lot of features involved and test doesn't have the response/amount, which makes sense."
   ]
  },
  {
   "cell_type": "markdown",
   "metadata": {},
   "source": [
    "# 3. Discover and EDA"
   ]
  },
  {
   "cell_type": "markdown",
   "metadata": {},
   "source": [
    "# 4. Preprocess"
   ]
  },
  {
   "cell_type": "markdown",
   "metadata": {},
   "source": [
    "TO DO:\n",
    "1. Merge train, test with zipcode\n",
    "2. Create new target labels in train (Profit/Not Profit = 1/0) \n",
    "    - Let us define Not Profit if the donor doesn't respond. **\n",
    "    - Let us assume that each cost in the zipcode is for each individual donor **\n",
    "    - Drop amount, responded\n",
    "3. Combine train, test to preprocess\n",
    "4. Pre-select Features: \n",
    "    - Drop redundant features\n",
    "    - Select most important predictors/hypotheses to start\n",
    "5. Categorical Features:\n",
    "    - Decode encoded features\n",
    "    - One-hot Encode\n",
    "    - PCA(?) \n",
    "6. Numerical Features: \n",
    "    - Standardize\n",
    "    - Do PCA"
   ]
  },
  {
   "cell_type": "markdown",
   "metadata": {},
   "source": [
    "### Merge with Zipcode"
   ]
  },
  {
   "cell_type": "markdown",
   "metadata": {},
   "source": [
    "First, we need to clean zip code in train, test, and zipcode."
   ]
  },
  {
   "cell_type": "code",
   "execution_count": 7,
   "metadata": {},
   "outputs": [],
   "source": [
    "train.zip = train.zip.str.replace('-','').astype(int)\n",
    "test.zip = test.zip.str.replace('-','').astype(int)\n",
    "zipcode.zip = zipcode.zip.astype(int)"
   ]
  },
  {
   "cell_type": "code",
   "execution_count": 8,
   "metadata": {},
   "outputs": [],
   "source": [
    "#merge with zipcode dataset\n",
    "train_merged = train.merge(zipcode, how = \"left\", left_on = \"zip\", right_on = \"zip\")\n",
    "test_merged = test.merge(zipcode, how = \"left\", left_on = \"zip\", right_on = \"zip\")"
   ]
  },
  {
   "cell_type": "markdown",
   "metadata": {},
   "source": [
    "### Create new target label for Train: profit"
   ]
  },
  {
   "cell_type": "code",
   "execution_count": 9,
   "metadata": {},
   "outputs": [],
   "source": [
    "train_merged[\"net\"] = train_merged.amount - train_merged.marketingCost\n",
    "train_merged.net.fillna(0, inplace = True)\n",
    "train_merged[\"profit\"] = [1 if x > 0 else 0 for x in train_merged.net]\n",
    "train_merged = train_merged.drop(columns = [\"net\",\"amount\",\"responded\"], axis = 1)"
   ]
  },
  {
   "cell_type": "markdown",
   "metadata": {},
   "source": [
    "### Create X_train, y_train, y_test"
   ]
  },
  {
   "cell_type": "code",
   "execution_count": 10,
   "metadata": {},
   "outputs": [
    {
     "data": {
      "text/plain": [
       "0.0454141281080191"
      ]
     },
     "execution_count": 10,
     "metadata": {},
     "output_type": "execute_result"
    }
   ],
   "source": [
    "#check class imbalance\n",
    "sum(train_merged.profit == 1)/float(len(train_merged))"
   ]
  },
  {
   "cell_type": "code",
   "execution_count": 11,
   "metadata": {},
   "outputs": [],
   "source": [
    "#class is imbalanced, need to resample\n",
    "from sklearn.utils import resample\n",
    "\n",
    "train_majority = train_merged[train_merged.profit == 0]\n",
    "train_minority = train_merged[train_merged.profit == 1]\n",
    "\n",
    "train_minority_upsampled = resample(train_minority,\n",
    "                                   replace = True,\n",
    "                                   n_samples = sum(train_merged.profit == 1) * 10,\n",
    "                                   random_state = 123) # match majority class\n",
    "\n",
    "# Combine majority class with upsampled minority class\n",
    "train_upsampled = pd.concat([train_majority, train_minority_upsampled])"
   ]
  },
  {
   "cell_type": "code",
   "execution_count": 12,
   "metadata": {},
   "outputs": [
    {
     "data": {
      "text/plain": [
       "0.32237703385075744"
      ]
     },
     "execution_count": 12,
     "metadata": {},
     "output_type": "execute_result"
    }
   ],
   "source": [
    "#more balanced now\n",
    "train_upsampled.profit.value_counts()[1]/float(len(train_upsampled))"
   ]
  },
  {
   "cell_type": "code",
   "execution_count": 13,
   "metadata": {},
   "outputs": [],
   "source": [
    "y_train = train_upsampled.profit\n",
    "X_train = train_upsampled.drop(columns = [\"profit\"], axis = 1)\n",
    "X_test = test_merged.drop(columns = [\"market\"]) #drop market for now"
   ]
  },
  {
   "cell_type": "code",
   "execution_count": 14,
   "metadata": {},
   "outputs": [
    {
     "name": "stdout",
     "output_type": "stream",
     "text": [
      "(256656,)\n",
      "(256656, 480)\n",
      "(9589, 480)\n"
     ]
    }
   ],
   "source": [
    "print(y_train.shape)\n",
    "print(X_train.shape)\n",
    "print(X_test.shape)"
   ]
  },
  {
   "cell_type": "markdown",
   "metadata": {},
   "source": [
    "### Check for class imbalance"
   ]
  },
  {
   "cell_type": "markdown",
   "metadata": {},
   "source": [
    "### Combine Train, Test to preprocess"
   ]
  },
  {
   "cell_type": "code",
   "execution_count": 15,
   "metadata": {},
   "outputs": [
    {
     "name": "stdout",
     "output_type": "stream",
     "text": [
      "(266245, 480)\n"
     ]
    },
    {
     "data": {
      "text/html": [
       "<div>\n",
       "<style scoped>\n",
       "    .dataframe tbody tr th:only-of-type {\n",
       "        vertical-align: middle;\n",
       "    }\n",
       "\n",
       "    .dataframe tbody tr th {\n",
       "        vertical-align: top;\n",
       "    }\n",
       "\n",
       "    .dataframe thead th {\n",
       "        text-align: right;\n",
       "    }\n",
       "</style>\n",
       "<table border=\"1\" class=\"dataframe\">\n",
       "  <thead>\n",
       "    <tr style=\"text-align: right;\">\n",
       "      <th></th>\n",
       "      <th>date</th>\n",
       "      <th>source</th>\n",
       "      <th>title</th>\n",
       "      <th>state</th>\n",
       "      <th>zip</th>\n",
       "      <th>mailcode</th>\n",
       "      <th>has_chapter</th>\n",
       "      <th>dob</th>\n",
       "      <th>noexch</th>\n",
       "      <th>recinhse</th>\n",
       "      <th>...</th>\n",
       "      <th>hphone_d</th>\n",
       "      <th>rfa_2r</th>\n",
       "      <th>rfa_2f</th>\n",
       "      <th>rfa_2a</th>\n",
       "      <th>mdmaud_r</th>\n",
       "      <th>mdmaud_f</th>\n",
       "      <th>mdmaud_a</th>\n",
       "      <th>cluster2</th>\n",
       "      <th>geocode2</th>\n",
       "      <th>marketingCost</th>\n",
       "    </tr>\n",
       "  </thead>\n",
       "  <tbody>\n",
       "    <tr>\n",
       "      <th>0</th>\n",
       "      <td>9101</td>\n",
       "      <td>IMA</td>\n",
       "      <td>0</td>\n",
       "      <td>KY</td>\n",
       "      <td>40207</td>\n",
       "      <td></td>\n",
       "      <td></td>\n",
       "      <td>6901</td>\n",
       "      <td>0</td>\n",
       "      <td></td>\n",
       "      <td>...</td>\n",
       "      <td>0</td>\n",
       "      <td>L</td>\n",
       "      <td>3</td>\n",
       "      <td>D</td>\n",
       "      <td>X</td>\n",
       "      <td>X</td>\n",
       "      <td>X</td>\n",
       "      <td>4.0</td>\n",
       "      <td>B</td>\n",
       "      <td>2.11</td>\n",
       "    </tr>\n",
       "    <tr>\n",
       "      <th>1</th>\n",
       "      <td>8601</td>\n",
       "      <td>LIS</td>\n",
       "      <td>2</td>\n",
       "      <td>MI</td>\n",
       "      <td>48504</td>\n",
       "      <td></td>\n",
       "      <td></td>\n",
       "      <td>4101</td>\n",
       "      <td>0</td>\n",
       "      <td></td>\n",
       "      <td>...</td>\n",
       "      <td>0</td>\n",
       "      <td>L</td>\n",
       "      <td>2</td>\n",
       "      <td>F</td>\n",
       "      <td>X</td>\n",
       "      <td>X</td>\n",
       "      <td>X</td>\n",
       "      <td>49.0</td>\n",
       "      <td>B</td>\n",
       "      <td>3.51</td>\n",
       "    </tr>\n",
       "    <tr>\n",
       "      <th>2</th>\n",
       "      <td>9601</td>\n",
       "      <td>AGS</td>\n",
       "      <td>28</td>\n",
       "      <td>WA</td>\n",
       "      <td>99218</td>\n",
       "      <td></td>\n",
       "      <td></td>\n",
       "      <td>0</td>\n",
       "      <td>0</td>\n",
       "      <td></td>\n",
       "      <td>...</td>\n",
       "      <td>0</td>\n",
       "      <td>L</td>\n",
       "      <td>3</td>\n",
       "      <td>E</td>\n",
       "      <td>X</td>\n",
       "      <td>X</td>\n",
       "      <td>X</td>\n",
       "      <td>48.0</td>\n",
       "      <td>B</td>\n",
       "      <td>1.21</td>\n",
       "    </tr>\n",
       "    <tr>\n",
       "      <th>4</th>\n",
       "      <td>9201</td>\n",
       "      <td>FRC</td>\n",
       "      <td>0</td>\n",
       "      <td>AL</td>\n",
       "      <td>35603</td>\n",
       "      <td></td>\n",
       "      <td></td>\n",
       "      <td>4301</td>\n",
       "      <td>0</td>\n",
       "      <td></td>\n",
       "      <td>...</td>\n",
       "      <td>0</td>\n",
       "      <td>L</td>\n",
       "      <td>1</td>\n",
       "      <td>G</td>\n",
       "      <td>X</td>\n",
       "      <td>X</td>\n",
       "      <td>X</td>\n",
       "      <td>16.0</td>\n",
       "      <td>C</td>\n",
       "      <td>1.95</td>\n",
       "    </tr>\n",
       "    <tr>\n",
       "      <th>5</th>\n",
       "      <td>9201</td>\n",
       "      <td>HHH</td>\n",
       "      <td>1</td>\n",
       "      <td>ID</td>\n",
       "      <td>83702</td>\n",
       "      <td></td>\n",
       "      <td></td>\n",
       "      <td>1703</td>\n",
       "      <td>0</td>\n",
       "      <td>X</td>\n",
       "      <td>...</td>\n",
       "      <td>0</td>\n",
       "      <td>L</td>\n",
       "      <td>2</td>\n",
       "      <td>E</td>\n",
       "      <td>X</td>\n",
       "      <td>X</td>\n",
       "      <td>X</td>\n",
       "      <td>48.0</td>\n",
       "      <td>C</td>\n",
       "      <td>2.93</td>\n",
       "    </tr>\n",
       "  </tbody>\n",
       "</table>\n",
       "<p>5 rows × 480 columns</p>\n",
       "</div>"
      ],
      "text/plain": [
       "   date source  title state    zip mailcode has_chapter   dob noexch recinhse  \\\n",
       "0  9101    IMA      0    KY  40207                       6901      0            \n",
       "1  8601    LIS      2    MI  48504                       4101      0            \n",
       "2  9601    AGS     28    WA  99218                          0      0            \n",
       "4  9201    FRC      0    AL  35603                       4301      0            \n",
       "5  9201    HHH      1    ID  83702                       1703      0        X   \n",
       "\n",
       "       ...      hphone_d rfa_2r rfa_2f rfa_2a mdmaud_r mdmaud_f  mdmaud_a  \\\n",
       "0      ...             0      L      3      D        X        X         X   \n",
       "1      ...             0      L      2      F        X        X         X   \n",
       "2      ...             0      L      3      E        X        X         X   \n",
       "4      ...             0      L      1      G        X        X         X   \n",
       "5      ...             0      L      2      E        X        X         X   \n",
       "\n",
       "  cluster2 geocode2 marketingCost  \n",
       "0      4.0        B          2.11  \n",
       "1     49.0        B          3.51  \n",
       "2     48.0        B          1.21  \n",
       "4     16.0        C          1.95  \n",
       "5     48.0        C          2.93  \n",
       "\n",
       "[5 rows x 480 columns]"
      ]
     },
     "execution_count": 15,
     "metadata": {},
     "output_type": "execute_result"
    }
   ],
   "source": [
    "full_train = pd.concat([X_train, X_test])\n",
    "print(full_train.shape)\n",
    "full_train.head()"
   ]
  },
  {
   "cell_type": "markdown",
   "metadata": {},
   "source": [
    "### Pre-Select Features / Hypothesis"
   ]
  },
  {
   "cell_type": "markdown",
   "metadata": {},
   "source": [
    "To simplify the model, let us use the columns that we will find pertinent to this problem, then add on additional columns later to see how they can improve prediction. \n",
    "\n",
    "The following is our hypothesis for this problem: \n",
    "\n",
    "We hypothesize that the the greatest predictors of donations will be: \n",
    "1. Social status \n",
    "    - Customer Title\n",
    "    - RFM\n",
    "    - Wealth Rating\n",
    "2. Location\n",
    "    - State\n",
    "    - Neighborhood (domain, neighborhood)\n",
    "3. Loyalty to Charity\n",
    "    - RFM\n",
    "    - File flags (In House, etc.)\n",
    "    - Promotion History\n",
    "4. Time of Year\n",
    "5. Demographics\n",
    "    - Family or not \n",
    "    - Gender\n",
    "    - Age\n",
    "6. Interests "
   ]
  },
  {
   "cell_type": "markdown",
   "metadata": {},
   "source": [
    "TO DO:\n",
    "1. Clean Zip based on mailcode (if bad address, not use zipcode)\n",
    "2. Explain why some features are dropped\n",
    "3. Use State, Cluster"
   ]
  },
  {
   "cell_type": "code",
   "execution_count": 16,
   "metadata": {},
   "outputs": [],
   "source": [
    "#drop features that are already captured in other features\n",
    "#income range not understood feature, already captured in wealth rating\n",
    "#wealth1/wealth2? \n",
    "feature_to_drop = [\"date\",\"source\",\"zip\", \"mailcode\", \n",
    "                   \"dob\", \"ageflag\", \"income_range\", \n",
    "                   \"geocode\", \"lifesrc\",\"id\",\"cluster2\",\"geocode2\",\"msa\",\"adi\",\"dma\"]\n",
    "\n",
    "full_train_drop = full_train.drop(columns = feature_to_drop, axis = 1)"
   ]
  },
  {
   "cell_type": "markdown",
   "metadata": {},
   "source": [
    "For starters, let's just use the following features: \n",
    "- Demographics (age, Gender, number of children) \n",
    "- RFM\n",
    "- RFA\n",
    "- Socioeconomic Status (title, wealth2)\n",
    "- Characteristics of Neighborhood"
   ]
  },
  {
   "cell_type": "code",
   "execution_count": 19,
   "metadata": {},
   "outputs": [
    {
     "name": "stdout",
     "output_type": "stream",
     "text": [
      "start of characteristics: 66\n",
      "end of characteristics: 348\n"
     ]
    }
   ],
   "source": [
    "#get column names of neighborhood characteristics\n",
    "print(\"start of characteristics:\",full_train_drop.columns.get_loc(\"pop901\"))\n",
    "print(\"end of characteristics:\",full_train_drop.columns.get_loc(\"ac2\"))\n",
    "neigh_chars_colnames = list(full_train_drop.columns.values[66:349])"
   ]
  },
  {
   "cell_type": "code",
   "execution_count": 40,
   "metadata": {},
   "outputs": [
    {
     "data": {
      "text/html": [
       "<div>\n",
       "<style scoped>\n",
       "    .dataframe tbody tr th:only-of-type {\n",
       "        vertical-align: middle;\n",
       "    }\n",
       "\n",
       "    .dataframe tbody tr th {\n",
       "        vertical-align: top;\n",
       "    }\n",
       "\n",
       "    .dataframe thead th {\n",
       "        text-align: right;\n",
       "    }\n",
       "</style>\n",
       "<table border=\"1\" class=\"dataframe\">\n",
       "  <thead>\n",
       "    <tr style=\"text-align: right;\">\n",
       "      <th></th>\n",
       "      <th>title</th>\n",
       "      <th>mdmaud</th>\n",
       "      <th>domain</th>\n",
       "      <th>gender</th>\n",
       "      <th>rfa_2f</th>\n",
       "      <th>rfa_2r</th>\n",
       "      <th>rfa_2a</th>\n",
       "      <th>numchld</th>\n",
       "      <th>wealth2</th>\n",
       "      <th>age</th>\n",
       "    </tr>\n",
       "  </thead>\n",
       "  <tbody>\n",
       "    <tr>\n",
       "      <th>0</th>\n",
       "      <td>0</td>\n",
       "      <td>XXXX</td>\n",
       "      <td>C1</td>\n",
       "      <td>F</td>\n",
       "      <td>3</td>\n",
       "      <td>L</td>\n",
       "      <td>D</td>\n",
       "      <td>NaN</td>\n",
       "      <td>9.0</td>\n",
       "      <td>29.0</td>\n",
       "    </tr>\n",
       "    <tr>\n",
       "      <th>1</th>\n",
       "      <td>2</td>\n",
       "      <td>XXXX</td>\n",
       "      <td>C3</td>\n",
       "      <td>F</td>\n",
       "      <td>2</td>\n",
       "      <td>L</td>\n",
       "      <td>F</td>\n",
       "      <td>2.0</td>\n",
       "      <td>NaN</td>\n",
       "      <td>57.0</td>\n",
       "    </tr>\n",
       "    <tr>\n",
       "      <th>2</th>\n",
       "      <td>28</td>\n",
       "      <td>XXXX</td>\n",
       "      <td>C2</td>\n",
       "      <td>F</td>\n",
       "      <td>3</td>\n",
       "      <td>L</td>\n",
       "      <td>E</td>\n",
       "      <td>NaN</td>\n",
       "      <td>NaN</td>\n",
       "      <td>NaN</td>\n",
       "    </tr>\n",
       "    <tr>\n",
       "      <th>4</th>\n",
       "      <td>0</td>\n",
       "      <td>XXXX</td>\n",
       "      <td>T2</td>\n",
       "      <td>F</td>\n",
       "      <td>1</td>\n",
       "      <td>L</td>\n",
       "      <td>G</td>\n",
       "      <td>NaN</td>\n",
       "      <td>8.0</td>\n",
       "      <td>55.0</td>\n",
       "    </tr>\n",
       "    <tr>\n",
       "      <th>5</th>\n",
       "      <td>1</td>\n",
       "      <td>XXXX</td>\n",
       "      <td>C2</td>\n",
       "      <td>M</td>\n",
       "      <td>2</td>\n",
       "      <td>L</td>\n",
       "      <td>E</td>\n",
       "      <td>NaN</td>\n",
       "      <td>4.0</td>\n",
       "      <td>81.0</td>\n",
       "    </tr>\n",
       "  </tbody>\n",
       "</table>\n",
       "</div>"
      ],
      "text/plain": [
       "   title mdmaud domain gender  rfa_2f rfa_2r rfa_2a  numchld  wealth2   age\n",
       "0      0   XXXX     C1      F       3      L      D      NaN      9.0  29.0\n",
       "1      2   XXXX     C3      F       2      L      F      2.0      NaN  57.0\n",
       "2     28   XXXX     C2      F       3      L      E      NaN      NaN   NaN\n",
       "4      0   XXXX     T2      F       1      L      G      NaN      8.0  55.0\n",
       "5      1   XXXX     C2      M       2      L      E      NaN      4.0  81.0"
      ]
     },
     "execution_count": 40,
     "metadata": {},
     "output_type": "execute_result"
    }
   ],
   "source": [
    "#categorical variables \n",
    "cat_features = [\"title\",\"mdmaud\",\"domain\",\"gender\",\"rfa_2f\",\"rfa_2r\",\"rfa_2a\"]\n",
    "\n",
    "#numerical variables\n",
    "num_features_small = [\"numchld\",\"wealth2\",\"age\"] #each wealth rating different in each state: how do we capture that? \n",
    "num_features = num_features_small #+ neigh_chars_colnames\n",
    "\n",
    "#subset full dataset\n",
    "all_features = cat_features + num_features\n",
    "subset = full_train_drop[all_features]\n",
    "subset.head()"
   ]
  },
  {
   "cell_type": "code",
   "execution_count": 41,
   "metadata": {},
   "outputs": [
    {
     "data": {
      "text/html": [
       "<div>\n",
       "<style scoped>\n",
       "    .dataframe tbody tr th:only-of-type {\n",
       "        vertical-align: middle;\n",
       "    }\n",
       "\n",
       "    .dataframe tbody tr th {\n",
       "        vertical-align: top;\n",
       "    }\n",
       "\n",
       "    .dataframe thead th {\n",
       "        text-align: right;\n",
       "    }\n",
       "</style>\n",
       "<table border=\"1\" class=\"dataframe\">\n",
       "  <thead>\n",
       "    <tr style=\"text-align: right;\">\n",
       "      <th></th>\n",
       "      <th>title</th>\n",
       "      <th>rfa_2f</th>\n",
       "      <th>numchld</th>\n",
       "      <th>wealth2</th>\n",
       "      <th>age</th>\n",
       "    </tr>\n",
       "  </thead>\n",
       "  <tbody>\n",
       "    <tr>\n",
       "      <th>count</th>\n",
       "      <td>266245.000000</td>\n",
       "      <td>266245.000000</td>\n",
       "      <td>33633.000000</td>\n",
       "      <td>146909.000000</td>\n",
       "      <td>201554.000000</td>\n",
       "    </tr>\n",
       "    <tr>\n",
       "      <th>mean</th>\n",
       "      <td>58.822408</td>\n",
       "      <td>1.981017</td>\n",
       "      <td>1.509916</td>\n",
       "      <td>5.024730</td>\n",
       "      <td>61.762694</td>\n",
       "    </tr>\n",
       "    <tr>\n",
       "      <th>std</th>\n",
       "      <td>1003.134519</td>\n",
       "      <td>1.098238</td>\n",
       "      <td>0.793628</td>\n",
       "      <td>2.798809</td>\n",
       "      <td>16.408209</td>\n",
       "    </tr>\n",
       "    <tr>\n",
       "      <th>min</th>\n",
       "      <td>0.000000</td>\n",
       "      <td>1.000000</td>\n",
       "      <td>1.000000</td>\n",
       "      <td>0.000000</td>\n",
       "      <td>1.000000</td>\n",
       "    </tr>\n",
       "    <tr>\n",
       "      <th>25%</th>\n",
       "      <td>0.000000</td>\n",
       "      <td>1.000000</td>\n",
       "      <td>1.000000</td>\n",
       "      <td>3.000000</td>\n",
       "      <td>49.000000</td>\n",
       "    </tr>\n",
       "    <tr>\n",
       "      <th>50%</th>\n",
       "      <td>1.000000</td>\n",
       "      <td>2.000000</td>\n",
       "      <td>1.000000</td>\n",
       "      <td>5.000000</td>\n",
       "      <td>62.000000</td>\n",
       "    </tr>\n",
       "    <tr>\n",
       "      <th>75%</th>\n",
       "      <td>2.000000</td>\n",
       "      <td>3.000000</td>\n",
       "      <td>2.000000</td>\n",
       "      <td>8.000000</td>\n",
       "      <td>75.000000</td>\n",
       "    </tr>\n",
       "    <tr>\n",
       "      <th>max</th>\n",
       "      <td>72002.000000</td>\n",
       "      <td>4.000000</td>\n",
       "      <td>7.000000</td>\n",
       "      <td>9.000000</td>\n",
       "      <td>98.000000</td>\n",
       "    </tr>\n",
       "  </tbody>\n",
       "</table>\n",
       "</div>"
      ],
      "text/plain": [
       "               title         rfa_2f       numchld        wealth2  \\\n",
       "count  266245.000000  266245.000000  33633.000000  146909.000000   \n",
       "mean       58.822408       1.981017      1.509916       5.024730   \n",
       "std      1003.134519       1.098238      0.793628       2.798809   \n",
       "min         0.000000       1.000000      1.000000       0.000000   \n",
       "25%         0.000000       1.000000      1.000000       3.000000   \n",
       "50%         1.000000       2.000000      1.000000       5.000000   \n",
       "75%         2.000000       3.000000      2.000000       8.000000   \n",
       "max     72002.000000       4.000000      7.000000       9.000000   \n",
       "\n",
       "                 age  \n",
       "count  201554.000000  \n",
       "mean       61.762694  \n",
       "std        16.408209  \n",
       "min         1.000000  \n",
       "25%        49.000000  \n",
       "50%        62.000000  \n",
       "75%        75.000000  \n",
       "max        98.000000  "
      ]
     },
     "execution_count": 41,
     "metadata": {},
     "output_type": "execute_result"
    }
   ],
   "source": [
    "subset.describe()"
   ]
  },
  {
   "cell_type": "markdown",
   "metadata": {},
   "source": [
    "We can see above that some features have missing values: age, wealth2, numchld. Let's assume all the neighborhood characteristics have no NaN and that they're reasonable."
   ]
  },
  {
   "cell_type": "markdown",
   "metadata": {},
   "source": [
    "### Decode"
   ]
  },
  {
   "cell_type": "code",
   "execution_count": 42,
   "metadata": {},
   "outputs": [
    {
     "data": {
      "text/plain": [
       "array(['XXXX', 'D2CM', 'D1CM', 'C1CM', 'C2LM', 'L1CM', 'I1CM', 'L1LM',\n",
       "       'C2CM', 'I1LM', 'D5MM', 'C1LM', 'D5TM', 'L2CM', 'C5CM', 'D5CM',\n",
       "       'I2CM', 'C2MM', 'D2MM', 'C5MM', 'C1MM', 'C5TM', 'I5MM', 'I2MM',\n",
       "       'I5CM', 'L2TM', 'L1MM', 'L2LM'], dtype=object)"
      ]
     },
     "execution_count": 42,
     "metadata": {},
     "output_type": "execute_result"
    }
   ],
   "source": [
    "#decode mdmaud\n",
    "subset.mdmaud.unique()"
   ]
  },
  {
   "cell_type": "code",
   "execution_count": 43,
   "metadata": {},
   "outputs": [
    {
     "name": "stderr",
     "output_type": "stream",
     "text": [
      "/home/tim_kartawijaya/anaconda3/lib/python3.6/site-packages/ipykernel_launcher.py:1: SettingWithCopyWarning: \n",
      "A value is trying to be set on a copy of a slice from a DataFrame.\n",
      "Try using .loc[row_indexer,col_indexer] = value instead\n",
      "\n",
      "See the caveats in the documentation: http://pandas.pydata.org/pandas-docs/stable/indexing.html#indexing-view-versus-copy\n",
      "  \"\"\"Entry point for launching an IPython kernel.\n",
      "/home/tim_kartawijaya/anaconda3/lib/python3.6/site-packages/ipykernel_launcher.py:2: SettingWithCopyWarning: \n",
      "A value is trying to be set on a copy of a slice from a DataFrame.\n",
      "Try using .loc[row_indexer,col_indexer] = value instead\n",
      "\n",
      "See the caveats in the documentation: http://pandas.pydata.org/pandas-docs/stable/indexing.html#indexing-view-versus-copy\n",
      "  \n",
      "/home/tim_kartawijaya/anaconda3/lib/python3.6/site-packages/ipykernel_launcher.py:3: SettingWithCopyWarning: \n",
      "A value is trying to be set on a copy of a slice from a DataFrame.\n",
      "Try using .loc[row_indexer,col_indexer] = value instead\n",
      "\n",
      "See the caveats in the documentation: http://pandas.pydata.org/pandas-docs/stable/indexing.html#indexing-view-versus-copy\n",
      "  This is separate from the ipykernel package so we can avoid doing imports until\n"
     ]
    }
   ],
   "source": [
    "subset[\"recency\"] = [x[0] for x in subset.mdmaud.values]\n",
    "subset[\"frequency\"] = [x[1] for x in subset.mdmaud.values]\n",
    "subset[\"amount\"] = [x[2] for x in subset.mdmaud.values]"
   ]
  },
  {
   "cell_type": "code",
   "execution_count": 44,
   "metadata": {},
   "outputs": [
    {
     "name": "stderr",
     "output_type": "stream",
     "text": [
      "/home/tim_kartawijaya/anaconda3/lib/python3.6/site-packages/ipykernel_launcher.py:2: SettingWithCopyWarning: \n",
      "A value is trying to be set on a copy of a slice from a DataFrame.\n",
      "Try using .loc[row_indexer,col_indexer] = value instead\n",
      "\n",
      "See the caveats in the documentation: http://pandas.pydata.org/pandas-docs/stable/indexing.html#indexing-view-versus-copy\n",
      "  \n",
      "/home/tim_kartawijaya/anaconda3/lib/python3.6/site-packages/ipykernel_launcher.py:3: SettingWithCopyWarning: \n",
      "A value is trying to be set on a copy of a slice from a DataFrame.\n",
      "Try using .loc[row_indexer,col_indexer] = value instead\n",
      "\n",
      "See the caveats in the documentation: http://pandas.pydata.org/pandas-docs/stable/indexing.html#indexing-view-versus-copy\n",
      "  This is separate from the ipykernel package so we can avoid doing imports until\n"
     ]
    }
   ],
   "source": [
    "#decode domain\n",
    "subset[\"urbanicity\"] = [x[0] for x in subset.domain.values]\n",
    "subset[\"neighborhood_status\"] = [x[1] if x != ' ' else \"X\" for x in subset.domain.values] #remove one missing value"
   ]
  },
  {
   "cell_type": "code",
   "execution_count": 45,
   "metadata": {},
   "outputs": [],
   "source": [
    "#add into categorical features\n",
    "cat_features += [\"urbanicity\",\"neighborhood_status\",\"recency\",\"frequency\",\"amount\"]"
   ]
  },
  {
   "cell_type": "markdown",
   "metadata": {},
   "source": [
    "### Impute Missing Values"
   ]
  },
  {
   "cell_type": "markdown",
   "metadata": {},
   "source": [
    "### Categorical Values"
   ]
  },
  {
   "cell_type": "code",
   "execution_count": 46,
   "metadata": {},
   "outputs": [
    {
     "name": "stderr",
     "output_type": "stream",
     "text": [
      "/home/tim_kartawijaya/anaconda3/lib/python3.6/site-packages/pandas/core/generic.py:4401: SettingWithCopyWarning: \n",
      "A value is trying to be set on a copy of a slice from a DataFrame.\n",
      "Try using .loc[row_indexer,col_indexer] = value instead\n",
      "\n",
      "See the caveats in the documentation: http://pandas.pydata.org/pandas-docs/stable/indexing.html#indexing-view-versus-copy\n",
      "  self[name] = value\n"
     ]
    }
   ],
   "source": [
    "#make gender into three categories\n",
    "subset.gender = [\"Other\" if x != \"F\" and x != \"M\" else x for x in subset.gender.values]"
   ]
  },
  {
   "cell_type": "markdown",
   "metadata": {},
   "source": [
    "#### Numerical Values"
   ]
  },
  {
   "cell_type": "markdown",
   "metadata": {},
   "source": [
    "We will use sklearn's Imputer for this case and use the median strategy.\n",
    "\n",
    "TO DO:\n",
    "- use a better imputer strategy (quick regression)"
   ]
  },
  {
   "cell_type": "code",
   "execution_count": 47,
   "metadata": {},
   "outputs": [
    {
     "data": {
      "text/html": [
       "<div>\n",
       "<style scoped>\n",
       "    .dataframe tbody tr th:only-of-type {\n",
       "        vertical-align: middle;\n",
       "    }\n",
       "\n",
       "    .dataframe tbody tr th {\n",
       "        vertical-align: top;\n",
       "    }\n",
       "\n",
       "    .dataframe thead th {\n",
       "        text-align: right;\n",
       "    }\n",
       "</style>\n",
       "<table border=\"1\" class=\"dataframe\">\n",
       "  <thead>\n",
       "    <tr style=\"text-align: right;\">\n",
       "      <th></th>\n",
       "      <th>title</th>\n",
       "      <th>mdmaud</th>\n",
       "      <th>domain</th>\n",
       "      <th>gender</th>\n",
       "      <th>rfa_2f</th>\n",
       "      <th>rfa_2r</th>\n",
       "      <th>rfa_2a</th>\n",
       "      <th>numchld</th>\n",
       "      <th>wealth2</th>\n",
       "      <th>age</th>\n",
       "      <th>recency</th>\n",
       "      <th>frequency</th>\n",
       "      <th>amount</th>\n",
       "      <th>urbanicity</th>\n",
       "      <th>neighborhood_status</th>\n",
       "    </tr>\n",
       "  </thead>\n",
       "  <tbody>\n",
       "    <tr>\n",
       "      <th>0</th>\n",
       "      <td>0</td>\n",
       "      <td>XXXX</td>\n",
       "      <td>C1</td>\n",
       "      <td>F</td>\n",
       "      <td>3</td>\n",
       "      <td>L</td>\n",
       "      <td>D</td>\n",
       "      <td>NaN</td>\n",
       "      <td>9.0</td>\n",
       "      <td>29.0</td>\n",
       "      <td>X</td>\n",
       "      <td>X</td>\n",
       "      <td>X</td>\n",
       "      <td>C</td>\n",
       "      <td>1</td>\n",
       "    </tr>\n",
       "    <tr>\n",
       "      <th>1</th>\n",
       "      <td>2</td>\n",
       "      <td>XXXX</td>\n",
       "      <td>C3</td>\n",
       "      <td>F</td>\n",
       "      <td>2</td>\n",
       "      <td>L</td>\n",
       "      <td>F</td>\n",
       "      <td>2.0</td>\n",
       "      <td>NaN</td>\n",
       "      <td>57.0</td>\n",
       "      <td>X</td>\n",
       "      <td>X</td>\n",
       "      <td>X</td>\n",
       "      <td>C</td>\n",
       "      <td>3</td>\n",
       "    </tr>\n",
       "    <tr>\n",
       "      <th>2</th>\n",
       "      <td>28</td>\n",
       "      <td>XXXX</td>\n",
       "      <td>C2</td>\n",
       "      <td>F</td>\n",
       "      <td>3</td>\n",
       "      <td>L</td>\n",
       "      <td>E</td>\n",
       "      <td>NaN</td>\n",
       "      <td>NaN</td>\n",
       "      <td>NaN</td>\n",
       "      <td>X</td>\n",
       "      <td>X</td>\n",
       "      <td>X</td>\n",
       "      <td>C</td>\n",
       "      <td>2</td>\n",
       "    </tr>\n",
       "    <tr>\n",
       "      <th>4</th>\n",
       "      <td>0</td>\n",
       "      <td>XXXX</td>\n",
       "      <td>T2</td>\n",
       "      <td>F</td>\n",
       "      <td>1</td>\n",
       "      <td>L</td>\n",
       "      <td>G</td>\n",
       "      <td>NaN</td>\n",
       "      <td>8.0</td>\n",
       "      <td>55.0</td>\n",
       "      <td>X</td>\n",
       "      <td>X</td>\n",
       "      <td>X</td>\n",
       "      <td>T</td>\n",
       "      <td>2</td>\n",
       "    </tr>\n",
       "    <tr>\n",
       "      <th>5</th>\n",
       "      <td>1</td>\n",
       "      <td>XXXX</td>\n",
       "      <td>C2</td>\n",
       "      <td>M</td>\n",
       "      <td>2</td>\n",
       "      <td>L</td>\n",
       "      <td>E</td>\n",
       "      <td>NaN</td>\n",
       "      <td>4.0</td>\n",
       "      <td>81.0</td>\n",
       "      <td>X</td>\n",
       "      <td>X</td>\n",
       "      <td>X</td>\n",
       "      <td>C</td>\n",
       "      <td>2</td>\n",
       "    </tr>\n",
       "  </tbody>\n",
       "</table>\n",
       "</div>"
      ],
      "text/plain": [
       "   title mdmaud domain gender  rfa_2f rfa_2r rfa_2a  numchld  wealth2   age  \\\n",
       "0      0   XXXX     C1      F       3      L      D      NaN      9.0  29.0   \n",
       "1      2   XXXX     C3      F       2      L      F      2.0      NaN  57.0   \n",
       "2     28   XXXX     C2      F       3      L      E      NaN      NaN   NaN   \n",
       "4      0   XXXX     T2      F       1      L      G      NaN      8.0  55.0   \n",
       "5      1   XXXX     C2      M       2      L      E      NaN      4.0  81.0   \n",
       "\n",
       "  recency frequency amount urbanicity neighborhood_status  \n",
       "0       X         X      X          C                   1  \n",
       "1       X         X      X          C                   3  \n",
       "2       X         X      X          C                   2  \n",
       "4       X         X      X          T                   2  \n",
       "5       X         X      X          C                   2  "
      ]
     },
     "execution_count": 47,
     "metadata": {},
     "output_type": "execute_result"
    }
   ],
   "source": [
    "subset.head()"
   ]
  },
  {
   "cell_type": "code",
   "execution_count": 48,
   "metadata": {},
   "outputs": [
    {
     "name": "stderr",
     "output_type": "stream",
     "text": [
      "/home/tim_kartawijaya/anaconda3/lib/python3.6/site-packages/pandas/core/generic.py:4401: SettingWithCopyWarning: \n",
      "A value is trying to be set on a copy of a slice from a DataFrame.\n",
      "Try using .loc[row_indexer,col_indexer] = value instead\n",
      "\n",
      "See the caveats in the documentation: http://pandas.pydata.org/pandas-docs/stable/indexing.html#indexing-view-versus-copy\n",
      "  self[name] = value\n"
     ]
    }
   ],
   "source": [
    "from sklearn.preprocessing import Imputer\n",
    "\n",
    "#Impute numerical columns\n",
    "def impute_num(data, strategy, columns_to_impute):\n",
    "    \n",
    "    df = data.copy()\n",
    "    \n",
    "    imputer = Imputer(strategy = strategy)\n",
    "    \n",
    "    for column in columns_to_impute:\n",
    "        df[[column]] = imputer.fit_transform(df[[column]])\n",
    "    \n",
    "    return df\n",
    "\n",
    "#for numchild, assume no child\n",
    "subset.numchld = subset.age.fillna(0)\n",
    "\n",
    "#for wealth, assume middle class\n",
    "subset.wealth2 = subset.age.fillna(5)\n",
    "\n",
    "#impute median for age\n",
    "subset = impute_num(subset, \"median\", [\"age\"])"
   ]
  },
  {
   "cell_type": "markdown",
   "metadata": {},
   "source": [
    "### One hot Encode Categorical Values\n",
    "\n",
    "Before we hot-encode, let's double check the categorical features"
   ]
  },
  {
   "cell_type": "code",
   "execution_count": 49,
   "metadata": {},
   "outputs": [
    {
     "data": {
      "text/html": [
       "<div>\n",
       "<style scoped>\n",
       "    .dataframe tbody tr th:only-of-type {\n",
       "        vertical-align: middle;\n",
       "    }\n",
       "\n",
       "    .dataframe tbody tr th {\n",
       "        vertical-align: top;\n",
       "    }\n",
       "\n",
       "    .dataframe thead th {\n",
       "        text-align: right;\n",
       "    }\n",
       "</style>\n",
       "<table border=\"1\" class=\"dataframe\">\n",
       "  <thead>\n",
       "    <tr style=\"text-align: right;\">\n",
       "      <th></th>\n",
       "      <th>mdmaud</th>\n",
       "      <th>domain</th>\n",
       "      <th>gender</th>\n",
       "      <th>rfa_2r</th>\n",
       "      <th>rfa_2a</th>\n",
       "      <th>urbanicity</th>\n",
       "      <th>neighborhood_status</th>\n",
       "      <th>recency</th>\n",
       "      <th>frequency</th>\n",
       "      <th>amount</th>\n",
       "    </tr>\n",
       "  </thead>\n",
       "  <tbody>\n",
       "    <tr>\n",
       "      <th>count</th>\n",
       "      <td>266245</td>\n",
       "      <td>266245</td>\n",
       "      <td>266245</td>\n",
       "      <td>266245</td>\n",
       "      <td>266245</td>\n",
       "      <td>266245</td>\n",
       "      <td>266245</td>\n",
       "      <td>266245</td>\n",
       "      <td>266245</td>\n",
       "      <td>266245</td>\n",
       "    </tr>\n",
       "    <tr>\n",
       "      <th>unique</th>\n",
       "      <td>28</td>\n",
       "      <td>17</td>\n",
       "      <td>3</td>\n",
       "      <td>1</td>\n",
       "      <td>4</td>\n",
       "      <td>6</td>\n",
       "      <td>5</td>\n",
       "      <td>5</td>\n",
       "      <td>4</td>\n",
       "      <td>5</td>\n",
       "    </tr>\n",
       "    <tr>\n",
       "      <th>top</th>\n",
       "      <td>XXXX</td>\n",
       "      <td>R2</td>\n",
       "      <td>F</td>\n",
       "      <td>L</td>\n",
       "      <td>F</td>\n",
       "      <td>S</td>\n",
       "      <td>2</td>\n",
       "      <td>X</td>\n",
       "      <td>X</td>\n",
       "      <td>X</td>\n",
       "    </tr>\n",
       "    <tr>\n",
       "      <th>freq</th>\n",
       "      <td>265355</td>\n",
       "      <td>37333</td>\n",
       "      <td>142749</td>\n",
       "      <td>266245</td>\n",
       "      <td>127708</td>\n",
       "      <td>62624</td>\n",
       "      <td>128697</td>\n",
       "      <td>265355</td>\n",
       "      <td>265355</td>\n",
       "      <td>265355</td>\n",
       "    </tr>\n",
       "  </tbody>\n",
       "</table>\n",
       "</div>"
      ],
      "text/plain": [
       "        mdmaud  domain  gender  rfa_2r  rfa_2a urbanicity neighborhood_status  \\\n",
       "count   266245  266245  266245  266245  266245     266245              266245   \n",
       "unique      28      17       3       1       4          6                   5   \n",
       "top       XXXX      R2       F       L       F          S                   2   \n",
       "freq    265355   37333  142749  266245  127708      62624              128697   \n",
       "\n",
       "       recency frequency  amount  \n",
       "count   266245    266245  266245  \n",
       "unique       5         4       5  \n",
       "top          X         X       X  \n",
       "freq    265355    265355  265355  "
      ]
     },
     "execution_count": 49,
     "metadata": {},
     "output_type": "execute_result"
    }
   ],
   "source": [
    "subset[cat_features].describe(include = ['O'])"
   ]
  },
  {
   "cell_type": "code",
   "execution_count": 50,
   "metadata": {},
   "outputs": [
    {
     "data": {
      "text/plain": [
       "array(['F', 'M', 'Other'], dtype=object)"
      ]
     },
     "execution_count": 50,
     "metadata": {},
     "output_type": "execute_result"
    }
   ],
   "source": [
    "subset.gender.unique()"
   ]
  },
  {
   "cell_type": "code",
   "execution_count": 51,
   "metadata": {},
   "outputs": [
    {
     "data": {
      "text/html": [
       "<div>\n",
       "<style scoped>\n",
       "    .dataframe tbody tr th:only-of-type {\n",
       "        vertical-align: middle;\n",
       "    }\n",
       "\n",
       "    .dataframe tbody tr th {\n",
       "        vertical-align: top;\n",
       "    }\n",
       "\n",
       "    .dataframe thead th {\n",
       "        text-align: right;\n",
       "    }\n",
       "</style>\n",
       "<table border=\"1\" class=\"dataframe\">\n",
       "  <thead>\n",
       "    <tr style=\"text-align: right;\">\n",
       "      <th></th>\n",
       "      <th>title</th>\n",
       "      <th>rfa_2f</th>\n",
       "    </tr>\n",
       "  </thead>\n",
       "  <tbody>\n",
       "    <tr>\n",
       "      <th>count</th>\n",
       "      <td>266245.000000</td>\n",
       "      <td>266245.000000</td>\n",
       "    </tr>\n",
       "    <tr>\n",
       "      <th>mean</th>\n",
       "      <td>58.822408</td>\n",
       "      <td>1.981017</td>\n",
       "    </tr>\n",
       "    <tr>\n",
       "      <th>std</th>\n",
       "      <td>1003.134519</td>\n",
       "      <td>1.098238</td>\n",
       "    </tr>\n",
       "    <tr>\n",
       "      <th>min</th>\n",
       "      <td>0.000000</td>\n",
       "      <td>1.000000</td>\n",
       "    </tr>\n",
       "    <tr>\n",
       "      <th>25%</th>\n",
       "      <td>0.000000</td>\n",
       "      <td>1.000000</td>\n",
       "    </tr>\n",
       "    <tr>\n",
       "      <th>50%</th>\n",
       "      <td>1.000000</td>\n",
       "      <td>2.000000</td>\n",
       "    </tr>\n",
       "    <tr>\n",
       "      <th>75%</th>\n",
       "      <td>2.000000</td>\n",
       "      <td>3.000000</td>\n",
       "    </tr>\n",
       "    <tr>\n",
       "      <th>max</th>\n",
       "      <td>72002.000000</td>\n",
       "      <td>4.000000</td>\n",
       "    </tr>\n",
       "  </tbody>\n",
       "</table>\n",
       "</div>"
      ],
      "text/plain": [
       "               title         rfa_2f\n",
       "count  266245.000000  266245.000000\n",
       "mean       58.822408       1.981017\n",
       "std      1003.134519       1.098238\n",
       "min         0.000000       1.000000\n",
       "25%         0.000000       1.000000\n",
       "50%         1.000000       2.000000\n",
       "75%         2.000000       3.000000\n",
       "max     72002.000000       4.000000"
      ]
     },
     "execution_count": 51,
     "metadata": {},
     "output_type": "execute_result"
    }
   ],
   "source": [
    "subset[cat_features].describe()"
   ]
  },
  {
   "cell_type": "code",
   "execution_count": 52,
   "metadata": {},
   "outputs": [],
   "source": [
    "# drop domain code since not needed anymore\n",
    "subset = subset.drop(columns = \"domain\", axis = 1)\n",
    "\n",
    "#drop mdmaud since not needed anymore\n",
    "subset = subset.drop(columns = \"mdmaud\", axis = 1)"
   ]
  },
  {
   "cell_type": "code",
   "execution_count": 53,
   "metadata": {},
   "outputs": [],
   "source": [
    "cat_features = [x for x in cat_features if x not in ('domain', 'mdmaud','title')]"
   ]
  },
  {
   "cell_type": "code",
   "execution_count": 54,
   "metadata": {},
   "outputs": [],
   "source": [
    "def encode_dummies(df, columns_to_encode): \n",
    "    return pd.get_dummies(df, prefix = columns_to_encode, columns = columns_to_encode)\n",
    "\n",
    "\n",
    "subset = encode_dummies(subset, cat_features)"
   ]
  },
  {
   "cell_type": "markdown",
   "metadata": {},
   "source": [
    "### Scale Numerical Values\n",
    "\n",
    "This will help our dimension reduction."
   ]
  },
  {
   "cell_type": "code",
   "execution_count": 55,
   "metadata": {},
   "outputs": [],
   "source": [
    "from sklearn.preprocessing import MinMaxScaler\n",
    "\n",
    "def scaler(data, columns_to_scale):\n",
    "    \n",
    "    df = data.copy()\n",
    "    scaler = MinMaxScaler()\n",
    "    \n",
    "    for column in columns_to_scale:\n",
    "        df[[column]] = scaler.fit_transform(df[[column]])\n",
    "        \n",
    "    return df \n",
    "\n",
    "subset = scaler(subset, num_features)"
   ]
  },
  {
   "cell_type": "markdown",
   "metadata": {},
   "source": [
    "### Reduce Dimensions of Numerical Values"
   ]
  },
  {
   "cell_type": "markdown",
   "metadata": {},
   "source": [
    "We only do PCA for numerical values since for binary data we would not achieve an accurate representation for the data."
   ]
  },
  {
   "cell_type": "code",
   "execution_count": 56,
   "metadata": {},
   "outputs": [
    {
     "data": {
      "text/html": [
       "<div>\n",
       "<style scoped>\n",
       "    .dataframe tbody tr th:only-of-type {\n",
       "        vertical-align: middle;\n",
       "    }\n",
       "\n",
       "    .dataframe tbody tr th {\n",
       "        vertical-align: top;\n",
       "    }\n",
       "\n",
       "    .dataframe thead th {\n",
       "        text-align: right;\n",
       "    }\n",
       "</style>\n",
       "<table border=\"1\" class=\"dataframe\">\n",
       "  <thead>\n",
       "    <tr style=\"text-align: right;\">\n",
       "      <th></th>\n",
       "      <th>title</th>\n",
       "      <th>numchld</th>\n",
       "      <th>wealth2</th>\n",
       "      <th>age</th>\n",
       "      <th>gender_F</th>\n",
       "      <th>gender_M</th>\n",
       "      <th>gender_Other</th>\n",
       "      <th>rfa_2f_1</th>\n",
       "      <th>rfa_2f_2</th>\n",
       "      <th>rfa_2f_3</th>\n",
       "      <th>...</th>\n",
       "      <th>recency_X</th>\n",
       "      <th>frequency_1</th>\n",
       "      <th>frequency_2</th>\n",
       "      <th>frequency_5</th>\n",
       "      <th>frequency_X</th>\n",
       "      <th>amount_C</th>\n",
       "      <th>amount_L</th>\n",
       "      <th>amount_M</th>\n",
       "      <th>amount_T</th>\n",
       "      <th>amount_X</th>\n",
       "    </tr>\n",
       "  </thead>\n",
       "  <tbody>\n",
       "    <tr>\n",
       "      <th>0</th>\n",
       "      <td>0</td>\n",
       "      <td>0.295918</td>\n",
       "      <td>0.288660</td>\n",
       "      <td>0.288660</td>\n",
       "      <td>1</td>\n",
       "      <td>0</td>\n",
       "      <td>0</td>\n",
       "      <td>0</td>\n",
       "      <td>0</td>\n",
       "      <td>1</td>\n",
       "      <td>...</td>\n",
       "      <td>1</td>\n",
       "      <td>0</td>\n",
       "      <td>0</td>\n",
       "      <td>0</td>\n",
       "      <td>1</td>\n",
       "      <td>0</td>\n",
       "      <td>0</td>\n",
       "      <td>0</td>\n",
       "      <td>0</td>\n",
       "      <td>1</td>\n",
       "    </tr>\n",
       "    <tr>\n",
       "      <th>1</th>\n",
       "      <td>2</td>\n",
       "      <td>0.581633</td>\n",
       "      <td>0.577320</td>\n",
       "      <td>0.577320</td>\n",
       "      <td>1</td>\n",
       "      <td>0</td>\n",
       "      <td>0</td>\n",
       "      <td>0</td>\n",
       "      <td>1</td>\n",
       "      <td>0</td>\n",
       "      <td>...</td>\n",
       "      <td>1</td>\n",
       "      <td>0</td>\n",
       "      <td>0</td>\n",
       "      <td>0</td>\n",
       "      <td>1</td>\n",
       "      <td>0</td>\n",
       "      <td>0</td>\n",
       "      <td>0</td>\n",
       "      <td>0</td>\n",
       "      <td>1</td>\n",
       "    </tr>\n",
       "    <tr>\n",
       "      <th>2</th>\n",
       "      <td>28</td>\n",
       "      <td>0.000000</td>\n",
       "      <td>0.041237</td>\n",
       "      <td>0.628866</td>\n",
       "      <td>1</td>\n",
       "      <td>0</td>\n",
       "      <td>0</td>\n",
       "      <td>0</td>\n",
       "      <td>0</td>\n",
       "      <td>1</td>\n",
       "      <td>...</td>\n",
       "      <td>1</td>\n",
       "      <td>0</td>\n",
       "      <td>0</td>\n",
       "      <td>0</td>\n",
       "      <td>1</td>\n",
       "      <td>0</td>\n",
       "      <td>0</td>\n",
       "      <td>0</td>\n",
       "      <td>0</td>\n",
       "      <td>1</td>\n",
       "    </tr>\n",
       "    <tr>\n",
       "      <th>4</th>\n",
       "      <td>0</td>\n",
       "      <td>0.561224</td>\n",
       "      <td>0.556701</td>\n",
       "      <td>0.556701</td>\n",
       "      <td>1</td>\n",
       "      <td>0</td>\n",
       "      <td>0</td>\n",
       "      <td>1</td>\n",
       "      <td>0</td>\n",
       "      <td>0</td>\n",
       "      <td>...</td>\n",
       "      <td>1</td>\n",
       "      <td>0</td>\n",
       "      <td>0</td>\n",
       "      <td>0</td>\n",
       "      <td>1</td>\n",
       "      <td>0</td>\n",
       "      <td>0</td>\n",
       "      <td>0</td>\n",
       "      <td>0</td>\n",
       "      <td>1</td>\n",
       "    </tr>\n",
       "    <tr>\n",
       "      <th>5</th>\n",
       "      <td>1</td>\n",
       "      <td>0.826531</td>\n",
       "      <td>0.824742</td>\n",
       "      <td>0.824742</td>\n",
       "      <td>0</td>\n",
       "      <td>1</td>\n",
       "      <td>0</td>\n",
       "      <td>0</td>\n",
       "      <td>1</td>\n",
       "      <td>0</td>\n",
       "      <td>...</td>\n",
       "      <td>1</td>\n",
       "      <td>0</td>\n",
       "      <td>0</td>\n",
       "      <td>0</td>\n",
       "      <td>1</td>\n",
       "      <td>0</td>\n",
       "      <td>0</td>\n",
       "      <td>0</td>\n",
       "      <td>0</td>\n",
       "      <td>1</td>\n",
       "    </tr>\n",
       "  </tbody>\n",
       "</table>\n",
       "<p>5 rows × 41 columns</p>\n",
       "</div>"
      ],
      "text/plain": [
       "   title   numchld   wealth2       age  gender_F  gender_M  gender_Other  \\\n",
       "0      0  0.295918  0.288660  0.288660         1         0             0   \n",
       "1      2  0.581633  0.577320  0.577320         1         0             0   \n",
       "2     28  0.000000  0.041237  0.628866         1         0             0   \n",
       "4      0  0.561224  0.556701  0.556701         1         0             0   \n",
       "5      1  0.826531  0.824742  0.824742         0         1             0   \n",
       "\n",
       "   rfa_2f_1  rfa_2f_2  rfa_2f_3    ...     recency_X  frequency_1  \\\n",
       "0         0         0         1    ...             1            0   \n",
       "1         0         1         0    ...             1            0   \n",
       "2         0         0         1    ...             1            0   \n",
       "4         1         0         0    ...             1            0   \n",
       "5         0         1         0    ...             1            0   \n",
       "\n",
       "   frequency_2  frequency_5  frequency_X  amount_C  amount_L  amount_M  \\\n",
       "0            0            0            1         0         0         0   \n",
       "1            0            0            1         0         0         0   \n",
       "2            0            0            1         0         0         0   \n",
       "4            0            0            1         0         0         0   \n",
       "5            0            0            1         0         0         0   \n",
       "\n",
       "   amount_T  amount_X  \n",
       "0         0         1  \n",
       "1         0         1  \n",
       "2         0         1  \n",
       "4         0         1  \n",
       "5         0         1  \n",
       "\n",
       "[5 rows x 41 columns]"
      ]
     },
     "execution_count": 56,
     "metadata": {},
     "output_type": "execute_result"
    }
   ],
   "source": [
    "subset.head()"
   ]
  },
  {
   "cell_type": "code",
   "execution_count": 37,
   "metadata": {},
   "outputs": [
    {
     "data": {
      "text/plain": [
       "array([[ 0.73146827, -0.16390325, -0.4606036 , ...,  0.1212032 ,\n",
       "        -0.09123037,  0.19111383],\n",
       "       [-0.53276872,  0.68043824, -0.02290182, ...,  0.05802208,\n",
       "         0.47328455, -0.13251007],\n",
       "       [ 0.05178889,  0.8658252 ,  1.24688168, ..., -0.10129257,\n",
       "         0.08096242, -0.20091685],\n",
       "       ...,\n",
       "       [-0.24574394, -1.38133505,  0.39724374, ..., -0.00576276,\n",
       "        -0.01327276, -0.13770004],\n",
       "       [ 1.90253243, -0.85008953, -0.67378875, ...,  0.05049212,\n",
       "         0.08375882,  0.01622526],\n",
       "       [-1.56278726, -0.08577679, -0.40557203, ..., -0.05803335,\n",
       "         0.09837706,  0.02366296]])"
      ]
     },
     "execution_count": 37,
     "metadata": {},
     "output_type": "execute_result"
    }
   ],
   "source": [
    "# from sklearn.decomposition import PCA\n",
    "# pca = PCA(n_components = 0.90)\n",
    "\n",
    "# subset_num = subset[num_features]\n",
    "# subset_num_reduced = pca.fit_transform(subset_num)\n",
    "# subset_num_reduced"
   ]
  },
  {
   "cell_type": "code",
   "execution_count": 38,
   "metadata": {},
   "outputs": [
    {
     "data": {
      "text/plain": [
       "array([1.24024099, 0.80179694, 0.49906473, 0.34871371, 0.2718745 ,\n",
       "       0.21655015, 0.18022399, 0.17358053, 0.16511863, 0.11756281,\n",
       "       0.10493679, 0.09615047, 0.08385908, 0.06976117, 0.06191523,\n",
       "       0.05626451, 0.05212515, 0.04578492, 0.04380538, 0.03846619,\n",
       "       0.03695551, 0.03318626, 0.02826524, 0.02723236, 0.02525008,\n",
       "       0.02337187, 0.02277283, 0.02045097, 0.01958283, 0.01852013,\n",
       "       0.01815138])"
      ]
     },
     "execution_count": 38,
     "metadata": {},
     "output_type": "execute_result"
    }
   ],
   "source": [
    "# pca.explained_variance_"
   ]
  },
  {
   "cell_type": "code",
   "execution_count": null,
   "metadata": {},
   "outputs": [],
   "source": [
    "#drop previous columns, add in components\n",
    "# subset_final = subset.drop(columns = num_features, axis = 1)\n",
    "# subset_final = subset_final.join(pd.DataFrame(subset_num_reduced).iloc[:,0:11])"
   ]
  },
  {
   "cell_type": "code",
   "execution_count": 57,
   "metadata": {},
   "outputs": [],
   "source": [
    "#without\n",
    "subset_final = subset"
   ]
  },
  {
   "cell_type": "markdown",
   "metadata": {},
   "source": [
    "### Split back to Train and Test"
   ]
  },
  {
   "cell_type": "code",
   "execution_count": 58,
   "metadata": {},
   "outputs": [
    {
     "name": "stdout",
     "output_type": "stream",
     "text": [
      "(256656, 41)\n",
      "(9589, 41)\n"
     ]
    }
   ],
   "source": [
    "X_train = subset_final.iloc[0:train_upsampled.shape[0]]\n",
    "X_test = subset_final.iloc[train_upsampled.shape[0]:subset_final.shape[0]]\n",
    "print(X_train.shape)\n",
    "print(X_test.shape)"
   ]
  },
  {
   "cell_type": "markdown",
   "metadata": {},
   "source": [
    "# 5. Train Model / Tune it\n",
    "\n",
    "Let us first start with a baseline classification algorithm: a **logistic regression**. NOTE: logistic regression did not converge, which made sense as logistic regression is not meant for high dimension"
   ]
  },
  {
   "cell_type": "code",
   "execution_count": 35,
   "metadata": {},
   "outputs": [],
   "source": [
    "# from sklearn.linear_model import LogisticRegression\n",
    "# clf = LogisticRegression(random_state = 0, solver = 'sag', verbose = 1) #sag faster for large datasets\n",
    "# clf.fit(X_pretrain, y_pretrain)"
   ]
  },
  {
   "cell_type": "code",
   "execution_count": 36,
   "metadata": {},
   "outputs": [
    {
     "data": {
      "text/plain": [
       "SGDClassifier(alpha=0.0001, average=False, class_weight=None, epsilon=0.1,\n",
       "       eta0=0.0, fit_intercept=True, l1_ratio=0.15,\n",
       "       learning_rate='optimal', loss='hinge', max_iter=1000, n_iter=None,\n",
       "       n_jobs=1, penalty='l2', power_t=0.5, random_state=None,\n",
       "       shuffle=True, tol=None, verbose=0, warm_start=False)"
      ]
     },
     "execution_count": 36,
     "metadata": {},
     "output_type": "execute_result"
    }
   ],
   "source": [
    "from sklearn import linear_model\n",
    "clf = linear_model.SGDClassifier(max_iter=1000)\n",
    "clf.fit(X_train, y_train)"
   ]
  },
  {
   "cell_type": "markdown",
   "metadata": {},
   "source": [
    "For a baseline, we will have a model that predicts the variable randomly. (Random Generator from 0 to 1)"
   ]
  },
  {
   "cell_type": "code",
   "execution_count": null,
   "metadata": {},
   "outputs": [],
   "source": [
    "import random\n",
    "y_pred = np.random.randint(2, size=len(y_train))\n",
    "\n",
    "from sklearn.metrics import recall_score\n",
    "recall_score(y_train, y_pred, average=\"macro\")"
   ]
  },
  {
   "cell_type": "markdown",
   "metadata": {},
   "source": [
    "Finally, let's try out a **Random Forest Classifier**."
   ]
  },
  {
   "cell_type": "code",
   "execution_count": 59,
   "metadata": {},
   "outputs": [
    {
     "data": {
      "text/plain": [
       "RandomForestClassifier(bootstrap=True, class_weight=None, criterion='gini',\n",
       "            max_depth=10, max_features='auto', max_leaf_nodes=None,\n",
       "            min_impurity_decrease=0.0, min_impurity_split=None,\n",
       "            min_samples_leaf=1, min_samples_split=2,\n",
       "            min_weight_fraction_leaf=0.0, n_estimators=200, n_jobs=1,\n",
       "            oob_score=False, random_state=0, verbose=0, warm_start=False)"
      ]
     },
     "execution_count": 59,
     "metadata": {},
     "output_type": "execute_result"
    }
   ],
   "source": [
    "from sklearn.ensemble import RandomForestClassifier\n",
    "rfc = RandomForestClassifier(n_estimators = 200, max_depth = 10, random_state = 0)\n",
    "rfc.fit(X_train, y_train)"
   ]
  },
  {
   "cell_type": "code",
   "execution_count": null,
   "metadata": {},
   "outputs": [],
   "source": [
    "from sklearn.svm import SVC\n",
    "svc = SVC(gamma='auto')\n",
    "svc.fit(X_train,y_train)"
   ]
  },
  {
   "cell_type": "markdown",
   "metadata": {},
   "source": [
    "### Cross-Validate and Tune the Model"
   ]
  },
  {
   "cell_type": "markdown",
   "metadata": {},
   "source": [
    "TO DO: \n",
    "- Tune the dataset"
   ]
  },
  {
   "cell_type": "code",
   "execution_count": 42,
   "metadata": {},
   "outputs": [],
   "source": [
    "#Grid-Search parameters\n"
   ]
  },
  {
   "cell_type": "markdown",
   "metadata": {},
   "source": [
    "# 6. Evaluate the Model"
   ]
  },
  {
   "cell_type": "markdown",
   "metadata": {},
   "source": [
    "In this evaluation, we"
   ]
  },
  {
   "cell_type": "markdown",
   "metadata": {},
   "source": [
    "### Evaluate the Pretest \n",
    "\n",
    "The metrics we will use are ROC/AUC, Precision, Recall, F1."
   ]
  },
  {
   "cell_type": "code",
   "execution_count": 60,
   "metadata": {},
   "outputs": [],
   "source": [
    "from sklearn.model_selection import cross_validate\n",
    "\n",
    "scoring = {'precision' : 'precision_macro',\n",
    "           'recall' : 'recall_macro', \n",
    "           'accuracy' : 'accuracy',\n",
    "           'roc_auc': 'roc_auc'}\n",
    "\n",
    "scores = cross_validate(rfc, X_train, y_train, scoring = scoring, cv = 5, return_train_score = True)"
   ]
  },
  {
   "cell_type": "markdown",
   "metadata": {},
   "source": [
    "SGD Results **not good**: \n",
    "{'fit_time': array([138.87587214, 141.50030422, 136.17024302, 152.12180829,\n",
    "        136.2348361 ]),\n",
    " 'score_time': array([0.29960179, 0.22892308, 0.24707389, 0.25374961, 0.24197674]),\n",
    " 'test_precision': array([0.47722205, 0.47722205, 0.47722205, 0.47723842, 0.47723764]),\n",
    " 'train_precision': array([0.47723004, 0.47723004, 0.47723004, 0.47722595, 0.47722614]),\n",
    " 'test_recall': array([0.5, 0.5, 0.5, 0.5, 0.5]),\n",
    " 'train_recall': array([0.5, 0.5, 0.5, 0.5, 0.5]),\n",
    " 'test_accuracy': array([0.9544441 , 0.9544441 , 0.9544441 , 0.95447684, 0.95447528]),\n",
    " 'train_accuracy': array([0.95446008, 0.95446008, 0.95446008, 0.9544519 , 0.95445229]),\n",
    " 'test_f1': array([0.48834556, 0.48834556, 0.48834556, 0.48835413, 0.48835372]),\n",
    " 'train_f1': array([0.48834974, 0.48834974, 0.48834974, 0.4883476 , 0.4883477 ]),\n",
    " 'test_roc_auc': array([0.48871541, 0.51291833, 0.5078014 , 0.51084327, 0.49734952]),\n",
    " 'train_roc_auc': array([0.50664669, 0.50165642, 0.50319574, 0.49676853, 0.49933318])}"
   ]
  },
  {
   "cell_type": "code",
   "execution_count": 61,
   "metadata": {},
   "outputs": [
    {
     "data": {
      "text/plain": [
       "{'fit_time': array([34.82268953, 34.68291283, 34.13025999, 33.77248764, 34.18849707]),\n",
       " 'score_time': array([7.75626636, 7.17323065, 8.04205155, 7.89276767, 7.47229862]),\n",
       " 'test_precision': array([0.79965527, 0.78356265, 0.79069852, 0.77995106, 0.78747275]),\n",
       " 'train_precision': array([0.80201548, 0.80055219, 0.79521983, 0.79141455, 0.79009977]),\n",
       " 'test_recall': array([0.52127818, 0.52096777, 0.52036612, 0.52016927, 0.52053743]),\n",
       " 'train_recall': array([0.52242992, 0.52300768, 0.5218488 , 0.52171796, 0.52243241]),\n",
       " 'test_accuracy': array([0.69062183, 0.69010929, 0.689895  , 0.68956381, 0.68993396]),\n",
       " 'train_accuracy': array([0.69136097, 0.69168392, 0.69087544, 0.69071959, 0.69111896]),\n",
       " 'test_roc_auc': array([0.71844276, 0.71167372, 0.72058011, 0.71948817, 0.71781518]),\n",
       " 'train_roc_auc': array([0.72546207, 0.72601936, 0.72671167, 0.72505923, 0.72515947])}"
      ]
     },
     "execution_count": 61,
     "metadata": {},
     "output_type": "execute_result"
    }
   ],
   "source": [
    "scores"
   ]
  },
  {
   "cell_type": "markdown",
   "metadata": {},
   "source": [
    "We'd like a model that go beyond 0.5 in roc/auc, recall and precision, as a classifier with such a metric is simply guessing randomly whether a donor will donate or not."
   ]
  },
  {
   "cell_type": "markdown",
   "metadata": {},
   "source": [
    "# 7. Predict the Test Set"
   ]
  },
  {
   "cell_type": "code",
   "execution_count": 63,
   "metadata": {},
   "outputs": [],
   "source": [
    "best_model = RandomForestClassifier(n_estimators = 200, max_depth = 10\n",
    "                                    , random_state = 0)\n",
    "best_model.fit(X_train, y_train)\n",
    "results = best_model.predict(X_test)"
   ]
  },
  {
   "cell_type": "code",
   "execution_count": 64,
   "metadata": {},
   "outputs": [
    {
     "name": "stderr",
     "output_type": "stream",
     "text": [
      "/home/tim_kartawijaya/anaconda3/lib/python3.6/site-packages/IPython/core/interactiveshell.py:2785: DtypeWarning: Columns (8) have mixed types. Specify dtype option on import or set low_memory=False.\n",
      "  interactivity=interactivity, compiler=compiler, result=result)\n"
     ]
    }
   ],
   "source": [
    "test = pd.read_csv(\"test.csv\")\n",
    "test.market = results\n",
    "test.to_csv(\"test_predicted.csv\")"
   ]
  },
  {
   "cell_type": "markdown",
   "metadata": {},
   "source": [
    "# 8. Next Steps\n",
    "\n",
    "The classifier still did not produce good results, as it could not exceed a baseline model (randomly choose between 0 and 1). If there were more time, we would try to use more data and find better models to perform prediction. A few things to try: \n",
    "1. Look more into the class imbalance.\n",
    "2. Look into PCA, locate errors. \n",
    "3. Use more data."
   ]
  },
  {
   "cell_type": "code",
   "execution_count": null,
   "metadata": {},
   "outputs": [],
   "source": []
  },
  {
   "cell_type": "code",
   "execution_count": null,
   "metadata": {},
   "outputs": [],
   "source": []
  },
  {
   "cell_type": "code",
   "execution_count": null,
   "metadata": {},
   "outputs": [],
   "source": []
  },
  {
   "cell_type": "code",
   "execution_count": null,
   "metadata": {},
   "outputs": [],
   "source": []
  },
  {
   "cell_type": "code",
   "execution_count": null,
   "metadata": {},
   "outputs": [],
   "source": []
  },
  {
   "cell_type": "code",
   "execution_count": null,
   "metadata": {},
   "outputs": [],
   "source": []
  }
 ],
 "metadata": {
  "kernelspec": {
   "display_name": "Python 3",
   "language": "python",
   "name": "python3"
  },
  "language_info": {
   "codemirror_mode": {
    "name": "ipython",
    "version": 3
   },
   "file_extension": ".py",
   "mimetype": "text/x-python",
   "name": "python",
   "nbconvert_exporter": "python",
   "pygments_lexer": "ipython3",
   "version": "3.6.5"
  }
 },
 "nbformat": 4,
 "nbformat_minor": 2
}
