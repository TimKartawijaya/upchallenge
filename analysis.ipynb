{
 "cells": [
  {
   "cell_type": "code",
   "execution_count": 1,
   "metadata": {},
   "outputs": [],
   "source": [
    "import pandas as pd\n",
    "import numpy as np\n",
    "import seaborn as sns\n",
    "import matplotlib.pyplot as plt"
   ]
  },
  {
   "cell_type": "markdown",
   "metadata": {},
   "source": [
    "Below is the framework we will use to analyze the data:\n",
    "1. Look at the big picture.\n",
    "2. Get the Data.\n",
    "3. Discover and Visualize data to gain insights (EDA).\n",
    "4. Preprocess the data.\n",
    "5. Select a Model and train/finetune it.\n",
    "6. Evaluate the model.\n",
    "7. Predict the test set. "
   ]
  },
  {
   "cell_type": "markdown",
   "metadata": {},
   "source": [
    "# 1. Big Picture\n",
    "\n",
    "Our objective is to **identify which potential donors** the charity should contact in order to **maximize profitability of marketing campaign.**\n",
    "\n",
    "From the given data, it looks like we will need to do some **supervised classification** to predict which donor will give us profit, meaning which donors have a positive gain when *amount - marketingCost*. Furthermore, we would need to have some interpretability to explain how we came up with that prediction i.e. what predictors we value most, etc, to communicate to our partners why our prediction is correct. "
   ]
  },
  {
   "cell_type": "markdown",
   "metadata": {},
   "source": [
    "# 2. Get the Data"
   ]
  },
  {
   "cell_type": "markdown",
   "metadata": {},
   "source": [
    "First, we load the train, test datasets, and the zipcode dataset."
   ]
  },
  {
   "cell_type": "code",
   "execution_count": 2,
   "metadata": {},
   "outputs": [
    {
     "name": "stderr",
     "output_type": "stream",
     "text": [
      "/home/tim_kartawijaya/anaconda3/lib/python3.6/site-packages/IPython/core/interactiveshell.py:2785: DtypeWarning: Columns (8) have mixed types. Specify dtype option on import or set low_memory=False.\n",
      "  interactivity=interactivity, compiler=compiler, result=result)\n"
     ]
    }
   ],
   "source": [
    "train = pd.read_csv(\"train.csv\")\n",
    "test = pd.read_csv(\"test.csv\")\n",
    "zipcode = pd.read_csv(\"zipCodeMarketingCosts.csv\")"
   ]
  },
  {
   "cell_type": "markdown",
   "metadata": {},
   "source": [
    "Now, let's take a peek at all the datasets."
   ]
  },
  {
   "cell_type": "code",
   "execution_count": 3,
   "metadata": {},
   "outputs": [
    {
     "data": {
      "text/html": [
       "<div>\n",
       "<style scoped>\n",
       "    .dataframe tbody tr th:only-of-type {\n",
       "        vertical-align: middle;\n",
       "    }\n",
       "\n",
       "    .dataframe tbody tr th {\n",
       "        vertical-align: top;\n",
       "    }\n",
       "\n",
       "    .dataframe thead th {\n",
       "        text-align: right;\n",
       "    }\n",
       "</style>\n",
       "<table border=\"1\" class=\"dataframe\">\n",
       "  <thead>\n",
       "    <tr style=\"text-align: right;\">\n",
       "      <th></th>\n",
       "      <th>date</th>\n",
       "      <th>source</th>\n",
       "      <th>title</th>\n",
       "      <th>state</th>\n",
       "      <th>zip</th>\n",
       "      <th>mailcode</th>\n",
       "      <th>has_chapter</th>\n",
       "      <th>dob</th>\n",
       "      <th>noexch</th>\n",
       "      <th>recinhse</th>\n",
       "      <th>...</th>\n",
       "      <th>amount</th>\n",
       "      <th>hphone_d</th>\n",
       "      <th>rfa_2r</th>\n",
       "      <th>rfa_2f</th>\n",
       "      <th>rfa_2a</th>\n",
       "      <th>mdmaud_r</th>\n",
       "      <th>mdmaud_f</th>\n",
       "      <th>mdmaud_a</th>\n",
       "      <th>cluster2</th>\n",
       "      <th>geocode2</th>\n",
       "    </tr>\n",
       "  </thead>\n",
       "  <tbody>\n",
       "    <tr>\n",
       "      <th>0</th>\n",
       "      <td>9101</td>\n",
       "      <td>IMA</td>\n",
       "      <td>0</td>\n",
       "      <td>KY</td>\n",
       "      <td>40207-</td>\n",
       "      <td></td>\n",
       "      <td></td>\n",
       "      <td>6901</td>\n",
       "      <td>0</td>\n",
       "      <td></td>\n",
       "      <td>...</td>\n",
       "      <td>NaN</td>\n",
       "      <td>0</td>\n",
       "      <td>L</td>\n",
       "      <td>3</td>\n",
       "      <td>D</td>\n",
       "      <td>X</td>\n",
       "      <td>X</td>\n",
       "      <td>X</td>\n",
       "      <td>4.0</td>\n",
       "      <td>B</td>\n",
       "    </tr>\n",
       "    <tr>\n",
       "      <th>1</th>\n",
       "      <td>8601</td>\n",
       "      <td>LIS</td>\n",
       "      <td>2</td>\n",
       "      <td>MI</td>\n",
       "      <td>48504</td>\n",
       "      <td></td>\n",
       "      <td></td>\n",
       "      <td>4101</td>\n",
       "      <td>0</td>\n",
       "      <td></td>\n",
       "      <td>...</td>\n",
       "      <td>NaN</td>\n",
       "      <td>0</td>\n",
       "      <td>L</td>\n",
       "      <td>2</td>\n",
       "      <td>F</td>\n",
       "      <td>X</td>\n",
       "      <td>X</td>\n",
       "      <td>X</td>\n",
       "      <td>49.0</td>\n",
       "      <td>B</td>\n",
       "    </tr>\n",
       "    <tr>\n",
       "      <th>2</th>\n",
       "      <td>9601</td>\n",
       "      <td>AGS</td>\n",
       "      <td>28</td>\n",
       "      <td>WA</td>\n",
       "      <td>99218</td>\n",
       "      <td></td>\n",
       "      <td></td>\n",
       "      <td>0</td>\n",
       "      <td>0</td>\n",
       "      <td></td>\n",
       "      <td>...</td>\n",
       "      <td>NaN</td>\n",
       "      <td>0</td>\n",
       "      <td>L</td>\n",
       "      <td>3</td>\n",
       "      <td>E</td>\n",
       "      <td>X</td>\n",
       "      <td>X</td>\n",
       "      <td>X</td>\n",
       "      <td>48.0</td>\n",
       "      <td>B</td>\n",
       "    </tr>\n",
       "    <tr>\n",
       "      <th>3</th>\n",
       "      <td>9101</td>\n",
       "      <td>NAD</td>\n",
       "      <td>2</td>\n",
       "      <td>NM</td>\n",
       "      <td>88201</td>\n",
       "      <td>B</td>\n",
       "      <td></td>\n",
       "      <td>5201</td>\n",
       "      <td>0</td>\n",
       "      <td></td>\n",
       "      <td>...</td>\n",
       "      <td>34.0</td>\n",
       "      <td>0</td>\n",
       "      <td>L</td>\n",
       "      <td>1</td>\n",
       "      <td>F</td>\n",
       "      <td>X</td>\n",
       "      <td>X</td>\n",
       "      <td>X</td>\n",
       "      <td>39.0</td>\n",
       "      <td>C</td>\n",
       "    </tr>\n",
       "    <tr>\n",
       "      <th>4</th>\n",
       "      <td>9201</td>\n",
       "      <td>FRC</td>\n",
       "      <td>0</td>\n",
       "      <td>AL</td>\n",
       "      <td>35603</td>\n",
       "      <td></td>\n",
       "      <td></td>\n",
       "      <td>4301</td>\n",
       "      <td>0</td>\n",
       "      <td></td>\n",
       "      <td>...</td>\n",
       "      <td>NaN</td>\n",
       "      <td>0</td>\n",
       "      <td>L</td>\n",
       "      <td>1</td>\n",
       "      <td>G</td>\n",
       "      <td>X</td>\n",
       "      <td>X</td>\n",
       "      <td>X</td>\n",
       "      <td>16.0</td>\n",
       "      <td>C</td>\n",
       "    </tr>\n",
       "  </tbody>\n",
       "</table>\n",
       "<p>5 rows × 481 columns</p>\n",
       "</div>"
      ],
      "text/plain": [
       "   date source  title state     zip mailcode has_chapter   dob noexch  \\\n",
       "0  9101    IMA      0    KY  40207-                       6901      0   \n",
       "1  8601    LIS      2    MI   48504                       4101      0   \n",
       "2  9601    AGS     28    WA   99218                          0      0   \n",
       "3  9101    NAD      2    NM   88201        B              5201      0   \n",
       "4  9201    FRC      0    AL   35603                       4301      0   \n",
       "\n",
       "  recinhse   ...    amount hphone_d rfa_2r rfa_2f rfa_2a mdmaud_r  mdmaud_f  \\\n",
       "0            ...       NaN        0      L      3      D        X         X   \n",
       "1            ...       NaN        0      L      2      F        X         X   \n",
       "2            ...       NaN        0      L      3      E        X         X   \n",
       "3            ...      34.0        0      L      1      F        X         X   \n",
       "4            ...       NaN        0      L      1      G        X         X   \n",
       "\n",
       "  mdmaud_a cluster2 geocode2  \n",
       "0        X      4.0        B  \n",
       "1        X     49.0        B  \n",
       "2        X     48.0        B  \n",
       "3        X     39.0        C  \n",
       "4        X     16.0        C  \n",
       "\n",
       "[5 rows x 481 columns]"
      ]
     },
     "execution_count": 3,
     "metadata": {},
     "output_type": "execute_result"
    }
   ],
   "source": [
    "train.head()"
   ]
  },
  {
   "cell_type": "code",
   "execution_count": 4,
   "metadata": {},
   "outputs": [
    {
     "data": {
      "text/html": [
       "<div>\n",
       "<style scoped>\n",
       "    .dataframe tbody tr th:only-of-type {\n",
       "        vertical-align: middle;\n",
       "    }\n",
       "\n",
       "    .dataframe tbody tr th {\n",
       "        vertical-align: top;\n",
       "    }\n",
       "\n",
       "    .dataframe thead th {\n",
       "        text-align: right;\n",
       "    }\n",
       "</style>\n",
       "<table border=\"1\" class=\"dataframe\">\n",
       "  <thead>\n",
       "    <tr style=\"text-align: right;\">\n",
       "      <th></th>\n",
       "      <th>date</th>\n",
       "      <th>source</th>\n",
       "      <th>title</th>\n",
       "      <th>state</th>\n",
       "      <th>zip</th>\n",
       "      <th>mailcode</th>\n",
       "      <th>has_chapter</th>\n",
       "      <th>dob</th>\n",
       "      <th>noexch</th>\n",
       "      <th>recinhse</th>\n",
       "      <th>...</th>\n",
       "      <th>hphone_d</th>\n",
       "      <th>rfa_2r</th>\n",
       "      <th>rfa_2f</th>\n",
       "      <th>rfa_2a</th>\n",
       "      <th>mdmaud_r</th>\n",
       "      <th>mdmaud_f</th>\n",
       "      <th>mdmaud_a</th>\n",
       "      <th>cluster2</th>\n",
       "      <th>geocode2</th>\n",
       "      <th>market</th>\n",
       "    </tr>\n",
       "  </thead>\n",
       "  <tbody>\n",
       "    <tr>\n",
       "      <th>0</th>\n",
       "      <td>9301</td>\n",
       "      <td>TRE</td>\n",
       "      <td>1</td>\n",
       "      <td>FL</td>\n",
       "      <td>34461</td>\n",
       "      <td></td>\n",
       "      <td></td>\n",
       "      <td>2001</td>\n",
       "      <td>0</td>\n",
       "      <td></td>\n",
       "      <td>...</td>\n",
       "      <td>1</td>\n",
       "      <td>L</td>\n",
       "      <td>2</td>\n",
       "      <td>F</td>\n",
       "      <td>X</td>\n",
       "      <td>X</td>\n",
       "      <td>X</td>\n",
       "      <td>52.0</td>\n",
       "      <td>C</td>\n",
       "      <td>NaN</td>\n",
       "    </tr>\n",
       "    <tr>\n",
       "      <th>1</th>\n",
       "      <td>9101</td>\n",
       "      <td>PV3</td>\n",
       "      <td>1002</td>\n",
       "      <td>CA</td>\n",
       "      <td>91106</td>\n",
       "      <td></td>\n",
       "      <td></td>\n",
       "      <td>0</td>\n",
       "      <td>0</td>\n",
       "      <td></td>\n",
       "      <td>...</td>\n",
       "      <td>0</td>\n",
       "      <td>L</td>\n",
       "      <td>1</td>\n",
       "      <td>F</td>\n",
       "      <td>X</td>\n",
       "      <td>X</td>\n",
       "      <td>X</td>\n",
       "      <td>24.0</td>\n",
       "      <td>A</td>\n",
       "      <td>NaN</td>\n",
       "    </tr>\n",
       "    <tr>\n",
       "      <th>2</th>\n",
       "      <td>8601</td>\n",
       "      <td>MBC</td>\n",
       "      <td>0</td>\n",
       "      <td>MN</td>\n",
       "      <td>56470</td>\n",
       "      <td></td>\n",
       "      <td></td>\n",
       "      <td>4305</td>\n",
       "      <td>0</td>\n",
       "      <td></td>\n",
       "      <td>...</td>\n",
       "      <td>0</td>\n",
       "      <td>L</td>\n",
       "      <td>3</td>\n",
       "      <td>D</td>\n",
       "      <td>X</td>\n",
       "      <td>X</td>\n",
       "      <td>X</td>\n",
       "      <td>59.0</td>\n",
       "      <td>D</td>\n",
       "      <td>NaN</td>\n",
       "    </tr>\n",
       "    <tr>\n",
       "      <th>3</th>\n",
       "      <td>8601</td>\n",
       "      <td>BHG</td>\n",
       "      <td>0</td>\n",
       "      <td>IN</td>\n",
       "      <td>47441</td>\n",
       "      <td></td>\n",
       "      <td></td>\n",
       "      <td>0</td>\n",
       "      <td>0</td>\n",
       "      <td></td>\n",
       "      <td>...</td>\n",
       "      <td>0</td>\n",
       "      <td>L</td>\n",
       "      <td>4</td>\n",
       "      <td>D</td>\n",
       "      <td>X</td>\n",
       "      <td>X</td>\n",
       "      <td>X</td>\n",
       "      <td>59.0</td>\n",
       "      <td>D</td>\n",
       "      <td>NaN</td>\n",
       "    </tr>\n",
       "    <tr>\n",
       "      <th>4</th>\n",
       "      <td>9501</td>\n",
       "      <td>AIR</td>\n",
       "      <td>0</td>\n",
       "      <td>NC</td>\n",
       "      <td>28906</td>\n",
       "      <td></td>\n",
       "      <td></td>\n",
       "      <td>4201</td>\n",
       "      <td>0</td>\n",
       "      <td></td>\n",
       "      <td>...</td>\n",
       "      <td>0</td>\n",
       "      <td>L</td>\n",
       "      <td>1</td>\n",
       "      <td>F</td>\n",
       "      <td>X</td>\n",
       "      <td>X</td>\n",
       "      <td>X</td>\n",
       "      <td>60.0</td>\n",
       "      <td>D</td>\n",
       "      <td>NaN</td>\n",
       "    </tr>\n",
       "  </tbody>\n",
       "</table>\n",
       "<p>5 rows × 480 columns</p>\n",
       "</div>"
      ],
      "text/plain": [
       "   date source  title state    zip mailcode has_chapter   dob noexch recinhse  \\\n",
       "0  9301    TRE      1    FL  34461                       2001      0            \n",
       "1  9101    PV3   1002    CA  91106                          0      0            \n",
       "2  8601    MBC      0    MN  56470                       4305      0            \n",
       "3  8601    BHG      0    IN  47441                          0      0            \n",
       "4  9501    AIR      0    NC  28906                       4201      0            \n",
       "\n",
       "   ...   hphone_d rfa_2r rfa_2f rfa_2a mdmaud_r mdmaud_f  mdmaud_a cluster2  \\\n",
       "0  ...          1      L      2      F        X        X         X     52.0   \n",
       "1  ...          0      L      1      F        X        X         X     24.0   \n",
       "2  ...          0      L      3      D        X        X         X     59.0   \n",
       "3  ...          0      L      4      D        X        X         X     59.0   \n",
       "4  ...          0      L      1      F        X        X         X     60.0   \n",
       "\n",
       "  geocode2 market  \n",
       "0        C    NaN  \n",
       "1        A    NaN  \n",
       "2        D    NaN  \n",
       "3        D    NaN  \n",
       "4        D    NaN  \n",
       "\n",
       "[5 rows x 480 columns]"
      ]
     },
     "execution_count": 4,
     "metadata": {},
     "output_type": "execute_result"
    }
   ],
   "source": [
    "test.head()"
   ]
  },
  {
   "cell_type": "code",
   "execution_count": 5,
   "metadata": {},
   "outputs": [
    {
     "data": {
      "text/html": [
       "<div>\n",
       "<style scoped>\n",
       "    .dataframe tbody tr th:only-of-type {\n",
       "        vertical-align: middle;\n",
       "    }\n",
       "\n",
       "    .dataframe tbody tr th {\n",
       "        vertical-align: top;\n",
       "    }\n",
       "\n",
       "    .dataframe thead th {\n",
       "        text-align: right;\n",
       "    }\n",
       "</style>\n",
       "<table border=\"1\" class=\"dataframe\">\n",
       "  <thead>\n",
       "    <tr style=\"text-align: right;\">\n",
       "      <th></th>\n",
       "      <th>marketingCost</th>\n",
       "      <th>zip</th>\n",
       "    </tr>\n",
       "  </thead>\n",
       "  <tbody>\n",
       "    <tr>\n",
       "      <th>0</th>\n",
       "      <td>2.53</td>\n",
       "      <td>35236</td>\n",
       "    </tr>\n",
       "    <tr>\n",
       "      <th>1</th>\n",
       "      <td>2.63</td>\n",
       "      <td>35541</td>\n",
       "    </tr>\n",
       "    <tr>\n",
       "      <th>2</th>\n",
       "      <td>1.73</td>\n",
       "      <td>35542</td>\n",
       "    </tr>\n",
       "    <tr>\n",
       "      <th>3</th>\n",
       "      <td>3.92</td>\n",
       "      <td>35235</td>\n",
       "    </tr>\n",
       "    <tr>\n",
       "      <th>4</th>\n",
       "      <td>2.32</td>\n",
       "      <td>35232</td>\n",
       "    </tr>\n",
       "  </tbody>\n",
       "</table>\n",
       "</div>"
      ],
      "text/plain": [
       "   marketingCost    zip\n",
       "0           2.53  35236\n",
       "1           2.63  35541\n",
       "2           1.73  35542\n",
       "3           3.92  35235\n",
       "4           2.32  35232"
      ]
     },
     "execution_count": 5,
     "metadata": {},
     "output_type": "execute_result"
    }
   ],
   "source": [
    "zipcode.head()"
   ]
  },
  {
   "cell_type": "markdown",
   "metadata": {},
   "source": [
    "Lets look at the size of the datasets"
   ]
  },
  {
   "cell_type": "code",
   "execution_count": 6,
   "metadata": {},
   "outputs": [
    {
     "name": "stdout",
     "output_type": "stream",
     "text": [
      "(182190, 481)\n",
      "(9589, 480)\n",
      "(20265, 2)\n"
     ]
    }
   ],
   "source": [
    "print(train.shape)\n",
    "print(test.shape)\n",
    "print(zipcode.shape)"
   ]
  },
  {
   "cell_type": "markdown",
   "metadata": {},
   "source": [
    "Look's like there's a lot of features involved and test doesn't have the response/amount, which makes sense."
   ]
  },
  {
   "cell_type": "markdown",
   "metadata": {},
   "source": [
    "# 3. Discover and EDA"
   ]
  },
  {
   "cell_type": "markdown",
   "metadata": {},
   "source": [
    "# 4. Preprocess"
   ]
  },
  {
   "cell_type": "markdown",
   "metadata": {},
   "source": [
    "TO DO:\n",
    "1. Merge train, test with zipcode\n",
    "2. Create new target labels in train (Profit/Not Profit = 1/0) \n",
    "    - Let us define Not Profit if the donor doesn't respond. **\n",
    "    - Let us assume that each cost in the zipcode is for each individual donor **\n",
    "    - Drop amount, responded\n",
    "3. Combine train, test to preprocess\n",
    "4. Pre-select Features: \n",
    "    - Drop redundant features\n",
    "    - Select most important predictors/hypotheses to start\n",
    "5. Categorical Features:\n",
    "    - Decode encoded features\n",
    "    - One-hot Encode\n",
    "    - PCA(?) \n",
    "6. Numerical Features: \n",
    "    - Standardize\n",
    "    - Do PCA"
   ]
  },
  {
   "cell_type": "markdown",
   "metadata": {},
   "source": [
    "### Merge with Zipcode"
   ]
  },
  {
   "cell_type": "markdown",
   "metadata": {},
   "source": [
    "First, we need to clean zip code in train, test, and zipcode."
   ]
  },
  {
   "cell_type": "code",
   "execution_count": 7,
   "metadata": {},
   "outputs": [],
   "source": [
    "train.zip = train.zip.str.replace('-','').astype(int)\n",
    "test.zip = test.zip.str.replace('-','').astype(int)\n",
    "zipcode.zip = zipcode.zip.astype(int)"
   ]
  },
  {
   "cell_type": "code",
   "execution_count": 8,
   "metadata": {},
   "outputs": [],
   "source": [
    "#merge with zipcode dataset\n",
    "train_merged = train.merge(zipcode, how = \"left\", left_on = \"zip\", right_on = \"zip\")\n",
    "test_merged = test.merge(zipcode, how = \"left\", left_on = \"zip\", right_on = \"zip\")"
   ]
  },
  {
   "cell_type": "markdown",
   "metadata": {},
   "source": [
    "### Create new target label for Train: profit"
   ]
  },
  {
   "cell_type": "code",
   "execution_count": 9,
   "metadata": {},
   "outputs": [],
   "source": [
    "train_merged[\"net\"] = train_merged.amount - train_merged.marketingCost\n",
    "train_merged.net.fillna(0, inplace = True)\n",
    "train_merged[\"profit\"] = [1 if x > 0 else 0 for x in train_merged.net]\n",
    "train_merged = train_merged.drop(columns = [\"net\",\"amount\",\"responded\"], axis = 1)"
   ]
  },
  {
   "cell_type": "markdown",
   "metadata": {},
   "source": [
    "### Check for class imbalance"
   ]
  },
  {
   "cell_type": "code",
   "execution_count": 110,
   "metadata": {},
   "outputs": [
    {
     "data": {
      "text/plain": [
       "0.9514938246049817"
      ]
     },
     "execution_count": 110,
     "metadata": {},
     "output_type": "execute_result"
    }
   ],
   "source": [
    "(sum(y_train > 0))/float(sum(y_train <= 0))"
   ]
  },
  {
   "cell_type": "code",
   "execution_count": 79,
   "metadata": {},
   "outputs": [],
   "source": [
    "#class is imbalanced, need to resample\n",
    "from sklearn.utils import resample\n",
    "\n",
    "train_majority = train_merged[train_merged.profit == 0]\n",
    "train_minority = train_merged[train_merged.profit == 1]\n",
    "\n",
    "train_minority_upsampled = resample(train_minority,\n",
    "                                   replace = True,\n",
    "                                   n_samples = sum(y_train > 0) * 20,\n",
    "                                   random_state = 123) # match majority class\n",
    "\n",
    "# Combine majority class with upsampled minority class\n",
    "train_upsampled = pd.concat([train_majority, train_minority_upsampled])"
   ]
  },
  {
   "cell_type": "code",
   "execution_count": 80,
   "metadata": {},
   "outputs": [
    {
     "data": {
      "text/plain": [
       "0    173916\n",
       "1    165480\n",
       "Name: profit, dtype: int64"
      ]
     },
     "execution_count": 80,
     "metadata": {},
     "output_type": "execute_result"
    }
   ],
   "source": [
    "train_upsampled.profit.value_counts()"
   ]
  },
  {
   "cell_type": "markdown",
   "metadata": {},
   "source": [
    "### Create X_train, y_train, y_test"
   ]
  },
  {
   "cell_type": "code",
   "execution_count": 81,
   "metadata": {},
   "outputs": [],
   "source": [
    "y_train = train_upsampled.profit\n",
    "X_train = train_upsampled.drop(columns = [\"profit\"], axis = 1)\n",
    "X_test = test_merged.drop(columns = [\"market\"]) #drop market for now"
   ]
  },
  {
   "cell_type": "code",
   "execution_count": 82,
   "metadata": {},
   "outputs": [
    {
     "name": "stdout",
     "output_type": "stream",
     "text": [
      "(339396,)\n",
      "(339396, 480)\n",
      "(9589, 480)\n"
     ]
    }
   ],
   "source": [
    "print(y_train.shape)\n",
    "print(X_train.shape)\n",
    "print(X_test.shape)"
   ]
  },
  {
   "cell_type": "markdown",
   "metadata": {},
   "source": [
    "### Combine Train, Test to preprocess"
   ]
  },
  {
   "cell_type": "code",
   "execution_count": 83,
   "metadata": {},
   "outputs": [
    {
     "name": "stdout",
     "output_type": "stream",
     "text": [
      "(348985, 480)\n"
     ]
    },
    {
     "data": {
      "text/html": [
       "<div>\n",
       "<style scoped>\n",
       "    .dataframe tbody tr th:only-of-type {\n",
       "        vertical-align: middle;\n",
       "    }\n",
       "\n",
       "    .dataframe tbody tr th {\n",
       "        vertical-align: top;\n",
       "    }\n",
       "\n",
       "    .dataframe thead th {\n",
       "        text-align: right;\n",
       "    }\n",
       "</style>\n",
       "<table border=\"1\" class=\"dataframe\">\n",
       "  <thead>\n",
       "    <tr style=\"text-align: right;\">\n",
       "      <th></th>\n",
       "      <th>date</th>\n",
       "      <th>source</th>\n",
       "      <th>title</th>\n",
       "      <th>state</th>\n",
       "      <th>zip</th>\n",
       "      <th>mailcode</th>\n",
       "      <th>has_chapter</th>\n",
       "      <th>dob</th>\n",
       "      <th>noexch</th>\n",
       "      <th>recinhse</th>\n",
       "      <th>...</th>\n",
       "      <th>hphone_d</th>\n",
       "      <th>rfa_2r</th>\n",
       "      <th>rfa_2f</th>\n",
       "      <th>rfa_2a</th>\n",
       "      <th>mdmaud_r</th>\n",
       "      <th>mdmaud_f</th>\n",
       "      <th>mdmaud_a</th>\n",
       "      <th>cluster2</th>\n",
       "      <th>geocode2</th>\n",
       "      <th>marketingCost</th>\n",
       "    </tr>\n",
       "  </thead>\n",
       "  <tbody>\n",
       "    <tr>\n",
       "      <th>0</th>\n",
       "      <td>9101</td>\n",
       "      <td>IMA</td>\n",
       "      <td>0</td>\n",
       "      <td>KY</td>\n",
       "      <td>40207</td>\n",
       "      <td></td>\n",
       "      <td></td>\n",
       "      <td>6901</td>\n",
       "      <td>0</td>\n",
       "      <td></td>\n",
       "      <td>...</td>\n",
       "      <td>0</td>\n",
       "      <td>L</td>\n",
       "      <td>3</td>\n",
       "      <td>D</td>\n",
       "      <td>X</td>\n",
       "      <td>X</td>\n",
       "      <td>X</td>\n",
       "      <td>4.0</td>\n",
       "      <td>B</td>\n",
       "      <td>2.11</td>\n",
       "    </tr>\n",
       "    <tr>\n",
       "      <th>1</th>\n",
       "      <td>8601</td>\n",
       "      <td>LIS</td>\n",
       "      <td>2</td>\n",
       "      <td>MI</td>\n",
       "      <td>48504</td>\n",
       "      <td></td>\n",
       "      <td></td>\n",
       "      <td>4101</td>\n",
       "      <td>0</td>\n",
       "      <td></td>\n",
       "      <td>...</td>\n",
       "      <td>0</td>\n",
       "      <td>L</td>\n",
       "      <td>2</td>\n",
       "      <td>F</td>\n",
       "      <td>X</td>\n",
       "      <td>X</td>\n",
       "      <td>X</td>\n",
       "      <td>49.0</td>\n",
       "      <td>B</td>\n",
       "      <td>3.51</td>\n",
       "    </tr>\n",
       "    <tr>\n",
       "      <th>2</th>\n",
       "      <td>9601</td>\n",
       "      <td>AGS</td>\n",
       "      <td>28</td>\n",
       "      <td>WA</td>\n",
       "      <td>99218</td>\n",
       "      <td></td>\n",
       "      <td></td>\n",
       "      <td>0</td>\n",
       "      <td>0</td>\n",
       "      <td></td>\n",
       "      <td>...</td>\n",
       "      <td>0</td>\n",
       "      <td>L</td>\n",
       "      <td>3</td>\n",
       "      <td>E</td>\n",
       "      <td>X</td>\n",
       "      <td>X</td>\n",
       "      <td>X</td>\n",
       "      <td>48.0</td>\n",
       "      <td>B</td>\n",
       "      <td>1.21</td>\n",
       "    </tr>\n",
       "    <tr>\n",
       "      <th>4</th>\n",
       "      <td>9201</td>\n",
       "      <td>FRC</td>\n",
       "      <td>0</td>\n",
       "      <td>AL</td>\n",
       "      <td>35603</td>\n",
       "      <td></td>\n",
       "      <td></td>\n",
       "      <td>4301</td>\n",
       "      <td>0</td>\n",
       "      <td></td>\n",
       "      <td>...</td>\n",
       "      <td>0</td>\n",
       "      <td>L</td>\n",
       "      <td>1</td>\n",
       "      <td>G</td>\n",
       "      <td>X</td>\n",
       "      <td>X</td>\n",
       "      <td>X</td>\n",
       "      <td>16.0</td>\n",
       "      <td>C</td>\n",
       "      <td>1.95</td>\n",
       "    </tr>\n",
       "    <tr>\n",
       "      <th>5</th>\n",
       "      <td>9201</td>\n",
       "      <td>HHH</td>\n",
       "      <td>1</td>\n",
       "      <td>ID</td>\n",
       "      <td>83702</td>\n",
       "      <td></td>\n",
       "      <td></td>\n",
       "      <td>1703</td>\n",
       "      <td>0</td>\n",
       "      <td>X</td>\n",
       "      <td>...</td>\n",
       "      <td>0</td>\n",
       "      <td>L</td>\n",
       "      <td>2</td>\n",
       "      <td>E</td>\n",
       "      <td>X</td>\n",
       "      <td>X</td>\n",
       "      <td>X</td>\n",
       "      <td>48.0</td>\n",
       "      <td>C</td>\n",
       "      <td>2.93</td>\n",
       "    </tr>\n",
       "  </tbody>\n",
       "</table>\n",
       "<p>5 rows × 480 columns</p>\n",
       "</div>"
      ],
      "text/plain": [
       "   date source  title state    zip mailcode has_chapter   dob noexch recinhse  \\\n",
       "0  9101    IMA      0    KY  40207                       6901      0            \n",
       "1  8601    LIS      2    MI  48504                       4101      0            \n",
       "2  9601    AGS     28    WA  99218                          0      0            \n",
       "4  9201    FRC      0    AL  35603                       4301      0            \n",
       "5  9201    HHH      1    ID  83702                       1703      0        X   \n",
       "\n",
       "       ...      hphone_d rfa_2r rfa_2f rfa_2a mdmaud_r mdmaud_f  mdmaud_a  \\\n",
       "0      ...             0      L      3      D        X        X         X   \n",
       "1      ...             0      L      2      F        X        X         X   \n",
       "2      ...             0      L      3      E        X        X         X   \n",
       "4      ...             0      L      1      G        X        X         X   \n",
       "5      ...             0      L      2      E        X        X         X   \n",
       "\n",
       "  cluster2 geocode2 marketingCost  \n",
       "0      4.0        B          2.11  \n",
       "1     49.0        B          3.51  \n",
       "2     48.0        B          1.21  \n",
       "4     16.0        C          1.95  \n",
       "5     48.0        C          2.93  \n",
       "\n",
       "[5 rows x 480 columns]"
      ]
     },
     "execution_count": 83,
     "metadata": {},
     "output_type": "execute_result"
    }
   ],
   "source": [
    "full_train = pd.concat([X_train, X_test])\n",
    "print(full_train.shape)\n",
    "full_train.head()"
   ]
  },
  {
   "cell_type": "markdown",
   "metadata": {},
   "source": [
    "### Pre-Select Features / Hypothesis"
   ]
  },
  {
   "cell_type": "markdown",
   "metadata": {},
   "source": [
    "To simplify the model, let us use the columns that we will find pertinent to this problem, then add on additional columns later to see how they can improve prediction. \n",
    "\n",
    "The following is our hypothesis for this problem: \n",
    "\n",
    "We hypothesize that the the greatest predictors of donations will be: \n",
    "1. Social status \n",
    "    - Customer Title\n",
    "    - RFM\n",
    "    - Wealth Rating\n",
    "2. Location\n",
    "    - State\n",
    "    - Neighborhood (domain, neighborhood)\n",
    "3. Loyalty to Charity\n",
    "    - RFM\n",
    "    - File flags (In House, etc.)\n",
    "    - Promotion History\n",
    "4. Time of Year\n",
    "5. Demographics\n",
    "    - Family or not \n",
    "    - Gender\n",
    "    - Age\n",
    "6. Interests "
   ]
  },
  {
   "cell_type": "markdown",
   "metadata": {},
   "source": [
    "TO DO:\n",
    "1. Clean Zip based on mailcode (if bad address, not use zipcode)\n",
    "2. Explain why some features are dropped\n",
    "3. Use State, Cluster"
   ]
  },
  {
   "cell_type": "code",
   "execution_count": 84,
   "metadata": {},
   "outputs": [],
   "source": [
    "#drop features that are already captured in other features\n",
    "#income range not understood feature, already captured in wealth rating\n",
    "#wealth1/wealth2? \n",
    "feature_to_drop = [\"date\",\"source\",\"zip\", \"mailcode\", \n",
    "                   \"dob\", \"ageflag\", \"income_range\", \n",
    "                   \"geocode\", \"lifesrc\",\"id\",\"cluster2\",\"geocode2\",\"msa\",\"adi\",\"dma\"]\n",
    "\n",
    "full_train_drop = full_train.drop(columns = feature_to_drop, axis = 1)"
   ]
  },
  {
   "cell_type": "markdown",
   "metadata": {},
   "source": [
    "For starters, let's just use the following features: \n",
    "- Demographics (age, Gender, number of children) \n",
    "- RFM\n",
    "- RFA\n",
    "- Socioeconomic Status (title, wealth2)\n",
    "- Characteristics of Neighborhood"
   ]
  },
  {
   "cell_type": "code",
   "execution_count": 85,
   "metadata": {},
   "outputs": [
    {
     "name": "stdout",
     "output_type": "stream",
     "text": [
      "start of characteristics: 66\n",
      "end of characteristics: 348\n"
     ]
    }
   ],
   "source": [
    "#get column names of neighborhood characteristics\n",
    "print(\"start of characteristics:\",full_train_drop.columns.get_loc(\"pop901\"))\n",
    "print(\"end of characteristics:\",full_train_drop.columns.get_loc(\"ac2\"))\n",
    "neigh_chars_colnames = list(full_train_drop.columns.values[66:349])"
   ]
  },
  {
   "cell_type": "code",
   "execution_count": 86,
   "metadata": {},
   "outputs": [
    {
     "data": {
      "text/html": [
       "<div>\n",
       "<style scoped>\n",
       "    .dataframe tbody tr th:only-of-type {\n",
       "        vertical-align: middle;\n",
       "    }\n",
       "\n",
       "    .dataframe tbody tr th {\n",
       "        vertical-align: top;\n",
       "    }\n",
       "\n",
       "    .dataframe thead th {\n",
       "        text-align: right;\n",
       "    }\n",
       "</style>\n",
       "<table border=\"1\" class=\"dataframe\">\n",
       "  <thead>\n",
       "    <tr style=\"text-align: right;\">\n",
       "      <th></th>\n",
       "      <th>title</th>\n",
       "      <th>mdmaud</th>\n",
       "      <th>domain</th>\n",
       "      <th>gender</th>\n",
       "      <th>rfa_2f</th>\n",
       "      <th>rfa_2r</th>\n",
       "      <th>rfa_2a</th>\n",
       "      <th>numchld</th>\n",
       "      <th>wealth2</th>\n",
       "      <th>age</th>\n",
       "      <th>...</th>\n",
       "      <th>hc16</th>\n",
       "      <th>hc17</th>\n",
       "      <th>hc18</th>\n",
       "      <th>hc19</th>\n",
       "      <th>hc20</th>\n",
       "      <th>hc21</th>\n",
       "      <th>mhuc1</th>\n",
       "      <th>mhuc2</th>\n",
       "      <th>ac1</th>\n",
       "      <th>ac2</th>\n",
       "    </tr>\n",
       "  </thead>\n",
       "  <tbody>\n",
       "    <tr>\n",
       "      <th>0</th>\n",
       "      <td>0</td>\n",
       "      <td>XXXX</td>\n",
       "      <td>C1</td>\n",
       "      <td>F</td>\n",
       "      <td>3</td>\n",
       "      <td>L</td>\n",
       "      <td>D</td>\n",
       "      <td>NaN</td>\n",
       "      <td>9.0</td>\n",
       "      <td>29.0</td>\n",
       "      <td>...</td>\n",
       "      <td>0</td>\n",
       "      <td>99</td>\n",
       "      <td>0</td>\n",
       "      <td>53</td>\n",
       "      <td>99</td>\n",
       "      <td>99</td>\n",
       "      <td>9</td>\n",
       "      <td>2</td>\n",
       "      <td>8</td>\n",
       "      <td>9</td>\n",
       "    </tr>\n",
       "    <tr>\n",
       "      <th>1</th>\n",
       "      <td>2</td>\n",
       "      <td>XXXX</td>\n",
       "      <td>C3</td>\n",
       "      <td>F</td>\n",
       "      <td>2</td>\n",
       "      <td>L</td>\n",
       "      <td>F</td>\n",
       "      <td>2.0</td>\n",
       "      <td>NaN</td>\n",
       "      <td>57.0</td>\n",
       "      <td>...</td>\n",
       "      <td>0</td>\n",
       "      <td>84</td>\n",
       "      <td>16</td>\n",
       "      <td>95</td>\n",
       "      <td>99</td>\n",
       "      <td>99</td>\n",
       "      <td>7</td>\n",
       "      <td>2</td>\n",
       "      <td>9</td>\n",
       "      <td>10</td>\n",
       "    </tr>\n",
       "    <tr>\n",
       "      <th>2</th>\n",
       "      <td>28</td>\n",
       "      <td>XXXX</td>\n",
       "      <td>C2</td>\n",
       "      <td>F</td>\n",
       "      <td>3</td>\n",
       "      <td>L</td>\n",
       "      <td>E</td>\n",
       "      <td>NaN</td>\n",
       "      <td>NaN</td>\n",
       "      <td>NaN</td>\n",
       "      <td>...</td>\n",
       "      <td>4</td>\n",
       "      <td>99</td>\n",
       "      <td>0</td>\n",
       "      <td>99</td>\n",
       "      <td>99</td>\n",
       "      <td>98</td>\n",
       "      <td>10</td>\n",
       "      <td>4</td>\n",
       "      <td>4</td>\n",
       "      <td>3</td>\n",
       "    </tr>\n",
       "    <tr>\n",
       "      <th>4</th>\n",
       "      <td>0</td>\n",
       "      <td>XXXX</td>\n",
       "      <td>T2</td>\n",
       "      <td>F</td>\n",
       "      <td>1</td>\n",
       "      <td>L</td>\n",
       "      <td>G</td>\n",
       "      <td>NaN</td>\n",
       "      <td>8.0</td>\n",
       "      <td>55.0</td>\n",
       "      <td>...</td>\n",
       "      <td>5</td>\n",
       "      <td>98</td>\n",
       "      <td>1</td>\n",
       "      <td>72</td>\n",
       "      <td>99</td>\n",
       "      <td>99</td>\n",
       "      <td>7</td>\n",
       "      <td>2</td>\n",
       "      <td>4</td>\n",
       "      <td>4</td>\n",
       "    </tr>\n",
       "    <tr>\n",
       "      <th>5</th>\n",
       "      <td>1</td>\n",
       "      <td>XXXX</td>\n",
       "      <td>C2</td>\n",
       "      <td>M</td>\n",
       "      <td>2</td>\n",
       "      <td>L</td>\n",
       "      <td>E</td>\n",
       "      <td>NaN</td>\n",
       "      <td>4.0</td>\n",
       "      <td>81.0</td>\n",
       "      <td>...</td>\n",
       "      <td>2</td>\n",
       "      <td>99</td>\n",
       "      <td>0</td>\n",
       "      <td>99</td>\n",
       "      <td>99</td>\n",
       "      <td>98</td>\n",
       "      <td>5</td>\n",
       "      <td>2</td>\n",
       "      <td>0</td>\n",
       "      <td>5</td>\n",
       "    </tr>\n",
       "  </tbody>\n",
       "</table>\n",
       "<p>5 rows × 293 columns</p>\n",
       "</div>"
      ],
      "text/plain": [
       "   title mdmaud domain gender  rfa_2f rfa_2r rfa_2a  numchld  wealth2   age  \\\n",
       "0      0   XXXX     C1      F       3      L      D      NaN      9.0  29.0   \n",
       "1      2   XXXX     C3      F       2      L      F      2.0      NaN  57.0   \n",
       "2     28   XXXX     C2      F       3      L      E      NaN      NaN   NaN   \n",
       "4      0   XXXX     T2      F       1      L      G      NaN      8.0  55.0   \n",
       "5      1   XXXX     C2      M       2      L      E      NaN      4.0  81.0   \n",
       "\n",
       "  ...   hc16  hc17  hc18  hc19  hc20  hc21  mhuc1  mhuc2  ac1  ac2  \n",
       "0 ...      0    99     0    53    99    99      9      2    8    9  \n",
       "1 ...      0    84    16    95    99    99      7      2    9   10  \n",
       "2 ...      4    99     0    99    99    98     10      4    4    3  \n",
       "4 ...      5    98     1    72    99    99      7      2    4    4  \n",
       "5 ...      2    99     0    99    99    98      5      2    0    5  \n",
       "\n",
       "[5 rows x 293 columns]"
      ]
     },
     "execution_count": 86,
     "metadata": {},
     "output_type": "execute_result"
    }
   ],
   "source": [
    "#categorical variables \n",
    "cat_features = [\"title\",\"mdmaud\",\"domain\",\"gender\",\"rfa_2f\",\"rfa_2r\",\"rfa_2a\"]\n",
    "\n",
    "#numerical variables\n",
    "num_features_small = [\"numchld\",\"wealth2\",\"age\"] #each wealth rating different in each state: how do we capture that? \n",
    "num_features = num_features_small + neigh_chars_colnames\n",
    "\n",
    "#subset full dataset\n",
    "all_features = cat_features + num_features\n",
    "subset = full_train_drop[all_features]\n",
    "subset.head()"
   ]
  },
  {
   "cell_type": "code",
   "execution_count": 87,
   "metadata": {},
   "outputs": [
    {
     "data": {
      "text/html": [
       "<div>\n",
       "<style scoped>\n",
       "    .dataframe tbody tr th:only-of-type {\n",
       "        vertical-align: middle;\n",
       "    }\n",
       "\n",
       "    .dataframe tbody tr th {\n",
       "        vertical-align: top;\n",
       "    }\n",
       "\n",
       "    .dataframe thead th {\n",
       "        text-align: right;\n",
       "    }\n",
       "</style>\n",
       "<table border=\"1\" class=\"dataframe\">\n",
       "  <thead>\n",
       "    <tr style=\"text-align: right;\">\n",
       "      <th></th>\n",
       "      <th>title</th>\n",
       "      <th>rfa_2f</th>\n",
       "      <th>numchld</th>\n",
       "      <th>wealth2</th>\n",
       "      <th>age</th>\n",
       "      <th>pop901</th>\n",
       "      <th>pop902</th>\n",
       "      <th>pop903</th>\n",
       "      <th>pop90c1</th>\n",
       "      <th>pop90c2</th>\n",
       "      <th>...</th>\n",
       "      <th>hc16</th>\n",
       "      <th>hc17</th>\n",
       "      <th>hc18</th>\n",
       "      <th>hc19</th>\n",
       "      <th>hc20</th>\n",
       "      <th>hc21</th>\n",
       "      <th>mhuc1</th>\n",
       "      <th>mhuc2</th>\n",
       "      <th>ac1</th>\n",
       "      <th>ac2</th>\n",
       "    </tr>\n",
       "  </thead>\n",
       "  <tbody>\n",
       "    <tr>\n",
       "      <th>count</th>\n",
       "      <td>348985.000000</td>\n",
       "      <td>348985.000000</td>\n",
       "      <td>42953.000000</td>\n",
       "      <td>194869.000000</td>\n",
       "      <td>264877.000000</td>\n",
       "      <td>348985.000000</td>\n",
       "      <td>348985.000000</td>\n",
       "      <td>348985.000000</td>\n",
       "      <td>348985.000000</td>\n",
       "      <td>348985.000000</td>\n",
       "      <td>...</td>\n",
       "      <td>348985.000000</td>\n",
       "      <td>348985.000000</td>\n",
       "      <td>348985.000000</td>\n",
       "      <td>348985.000000</td>\n",
       "      <td>348985.000000</td>\n",
       "      <td>348985.000000</td>\n",
       "      <td>348985.000000</td>\n",
       "      <td>348985.000000</td>\n",
       "      <td>348985.000000</td>\n",
       "      <td>348985.000000</td>\n",
       "    </tr>\n",
       "    <tr>\n",
       "      <th>mean</th>\n",
       "      <td>60.862424</td>\n",
       "      <td>2.024660</td>\n",
       "      <td>1.501851</td>\n",
       "      <td>5.064649</td>\n",
       "      <td>61.884388</td>\n",
       "      <td>3200.046627</td>\n",
       "      <td>854.412969</td>\n",
       "      <td>1209.588472</td>\n",
       "      <td>58.409066</td>\n",
       "      <td>13.625442</td>\n",
       "      <td>...</td>\n",
       "      <td>5.476161</td>\n",
       "      <td>82.499262</td>\n",
       "      <td>15.307237</td>\n",
       "      <td>71.740800</td>\n",
       "      <td>97.646108</td>\n",
       "      <td>94.657034</td>\n",
       "      <td>8.185994</td>\n",
       "      <td>2.341350</td>\n",
       "      <td>5.882677</td>\n",
       "      <td>6.026637</td>\n",
       "    </tr>\n",
       "    <tr>\n",
       "      <th>std</th>\n",
       "      <td>1018.306569</td>\n",
       "      <td>1.111574</td>\n",
       "      <td>0.790114</td>\n",
       "      <td>2.796953</td>\n",
       "      <td>16.267946</td>\n",
       "      <td>5540.794894</td>\n",
       "      <td>1416.979947</td>\n",
       "      <td>2076.948679</td>\n",
       "      <td>47.416041</td>\n",
       "      <td>31.285227</td>\n",
       "      <td>...</td>\n",
       "      <td>10.575530</td>\n",
       "      <td>28.486959</td>\n",
       "      <td>26.750646</td>\n",
       "      <td>35.620863</td>\n",
       "      <td>9.209950</td>\n",
       "      <td>10.305667</td>\n",
       "      <td>3.566352</td>\n",
       "      <td>0.861654</td>\n",
       "      <td>2.850272</td>\n",
       "      <td>3.285127</td>\n",
       "    </tr>\n",
       "    <tr>\n",
       "      <th>min</th>\n",
       "      <td>0.000000</td>\n",
       "      <td>1.000000</td>\n",
       "      <td>1.000000</td>\n",
       "      <td>0.000000</td>\n",
       "      <td>1.000000</td>\n",
       "      <td>0.000000</td>\n",
       "      <td>0.000000</td>\n",
       "      <td>0.000000</td>\n",
       "      <td>0.000000</td>\n",
       "      <td>0.000000</td>\n",
       "      <td>...</td>\n",
       "      <td>0.000000</td>\n",
       "      <td>0.000000</td>\n",
       "      <td>0.000000</td>\n",
       "      <td>0.000000</td>\n",
       "      <td>0.000000</td>\n",
       "      <td>0.000000</td>\n",
       "      <td>0.000000</td>\n",
       "      <td>0.000000</td>\n",
       "      <td>0.000000</td>\n",
       "      <td>0.000000</td>\n",
       "    </tr>\n",
       "    <tr>\n",
       "      <th>25%</th>\n",
       "      <td>0.000000</td>\n",
       "      <td>1.000000</td>\n",
       "      <td>1.000000</td>\n",
       "      <td>3.000000</td>\n",
       "      <td>49.000000</td>\n",
       "      <td>986.000000</td>\n",
       "      <td>265.000000</td>\n",
       "      <td>378.000000</td>\n",
       "      <td>0.000000</td>\n",
       "      <td>0.000000</td>\n",
       "      <td>...</td>\n",
       "      <td>0.000000</td>\n",
       "      <td>79.000000</td>\n",
       "      <td>0.000000</td>\n",
       "      <td>44.000000</td>\n",
       "      <td>99.000000</td>\n",
       "      <td>94.000000</td>\n",
       "      <td>6.000000</td>\n",
       "      <td>2.000000</td>\n",
       "      <td>4.000000</td>\n",
       "      <td>4.000000</td>\n",
       "    </tr>\n",
       "    <tr>\n",
       "      <th>50%</th>\n",
       "      <td>1.000000</td>\n",
       "      <td>2.000000</td>\n",
       "      <td>1.000000</td>\n",
       "      <td>5.000000</td>\n",
       "      <td>63.000000</td>\n",
       "      <td>1570.000000</td>\n",
       "      <td>422.000000</td>\n",
       "      <td>587.000000</td>\n",
       "      <td>99.000000</td>\n",
       "      <td>0.000000</td>\n",
       "      <td>...</td>\n",
       "      <td>1.000000</td>\n",
       "      <td>99.000000</td>\n",
       "      <td>1.000000</td>\n",
       "      <td>94.000000</td>\n",
       "      <td>99.000000</td>\n",
       "      <td>98.000000</td>\n",
       "      <td>8.000000</td>\n",
       "      <td>2.000000</td>\n",
       "      <td>6.000000</td>\n",
       "      <td>6.000000</td>\n",
       "    </tr>\n",
       "    <tr>\n",
       "      <th>75%</th>\n",
       "      <td>2.000000</td>\n",
       "      <td>3.000000</td>\n",
       "      <td>2.000000</td>\n",
       "      <td>8.000000</td>\n",
       "      <td>75.000000</td>\n",
       "      <td>3100.000000</td>\n",
       "      <td>846.000000</td>\n",
       "      <td>1169.000000</td>\n",
       "      <td>99.000000</td>\n",
       "      <td>0.000000</td>\n",
       "      <td>...</td>\n",
       "      <td>5.000000</td>\n",
       "      <td>99.000000</td>\n",
       "      <td>18.000000</td>\n",
       "      <td>99.000000</td>\n",
       "      <td>99.000000</td>\n",
       "      <td>99.000000</td>\n",
       "      <td>9.000000</td>\n",
       "      <td>3.000000</td>\n",
       "      <td>7.000000</td>\n",
       "      <td>8.000000</td>\n",
       "    </tr>\n",
       "    <tr>\n",
       "      <th>max</th>\n",
       "      <td>72002.000000</td>\n",
       "      <td>4.000000</td>\n",
       "      <td>7.000000</td>\n",
       "      <td>9.000000</td>\n",
       "      <td>98.000000</td>\n",
       "      <td>98701.000000</td>\n",
       "      <td>23766.000000</td>\n",
       "      <td>35403.000000</td>\n",
       "      <td>99.000000</td>\n",
       "      <td>99.000000</td>\n",
       "      <td>...</td>\n",
       "      <td>99.000000</td>\n",
       "      <td>99.000000</td>\n",
       "      <td>99.000000</td>\n",
       "      <td>99.000000</td>\n",
       "      <td>99.000000</td>\n",
       "      <td>99.000000</td>\n",
       "      <td>21.000000</td>\n",
       "      <td>5.000000</td>\n",
       "      <td>99.000000</td>\n",
       "      <td>99.000000</td>\n",
       "    </tr>\n",
       "  </tbody>\n",
       "</table>\n",
       "<p>8 rows × 288 columns</p>\n",
       "</div>"
      ],
      "text/plain": [
       "               title         rfa_2f       numchld        wealth2  \\\n",
       "count  348985.000000  348985.000000  42953.000000  194869.000000   \n",
       "mean       60.862424       2.024660      1.501851       5.064649   \n",
       "std      1018.306569       1.111574      0.790114       2.796953   \n",
       "min         0.000000       1.000000      1.000000       0.000000   \n",
       "25%         0.000000       1.000000      1.000000       3.000000   \n",
       "50%         1.000000       2.000000      1.000000       5.000000   \n",
       "75%         2.000000       3.000000      2.000000       8.000000   \n",
       "max     72002.000000       4.000000      7.000000       9.000000   \n",
       "\n",
       "                 age         pop901         pop902         pop903  \\\n",
       "count  264877.000000  348985.000000  348985.000000  348985.000000   \n",
       "mean       61.884388    3200.046627     854.412969    1209.588472   \n",
       "std        16.267946    5540.794894    1416.979947    2076.948679   \n",
       "min         1.000000       0.000000       0.000000       0.000000   \n",
       "25%        49.000000     986.000000     265.000000     378.000000   \n",
       "50%        63.000000    1570.000000     422.000000     587.000000   \n",
       "75%        75.000000    3100.000000     846.000000    1169.000000   \n",
       "max        98.000000   98701.000000   23766.000000   35403.000000   \n",
       "\n",
       "             pop90c1        pop90c2      ...                 hc16  \\\n",
       "count  348985.000000  348985.000000      ...        348985.000000   \n",
       "mean       58.409066      13.625442      ...             5.476161   \n",
       "std        47.416041      31.285227      ...            10.575530   \n",
       "min         0.000000       0.000000      ...             0.000000   \n",
       "25%         0.000000       0.000000      ...             0.000000   \n",
       "50%        99.000000       0.000000      ...             1.000000   \n",
       "75%        99.000000       0.000000      ...             5.000000   \n",
       "max        99.000000      99.000000      ...            99.000000   \n",
       "\n",
       "                hc17           hc18           hc19           hc20  \\\n",
       "count  348985.000000  348985.000000  348985.000000  348985.000000   \n",
       "mean       82.499262      15.307237      71.740800      97.646108   \n",
       "std        28.486959      26.750646      35.620863       9.209950   \n",
       "min         0.000000       0.000000       0.000000       0.000000   \n",
       "25%        79.000000       0.000000      44.000000      99.000000   \n",
       "50%        99.000000       1.000000      94.000000      99.000000   \n",
       "75%        99.000000      18.000000      99.000000      99.000000   \n",
       "max        99.000000      99.000000      99.000000      99.000000   \n",
       "\n",
       "                hc21          mhuc1          mhuc2            ac1  \\\n",
       "count  348985.000000  348985.000000  348985.000000  348985.000000   \n",
       "mean       94.657034       8.185994       2.341350       5.882677   \n",
       "std        10.305667       3.566352       0.861654       2.850272   \n",
       "min         0.000000       0.000000       0.000000       0.000000   \n",
       "25%        94.000000       6.000000       2.000000       4.000000   \n",
       "50%        98.000000       8.000000       2.000000       6.000000   \n",
       "75%        99.000000       9.000000       3.000000       7.000000   \n",
       "max        99.000000      21.000000       5.000000      99.000000   \n",
       "\n",
       "                 ac2  \n",
       "count  348985.000000  \n",
       "mean        6.026637  \n",
       "std         3.285127  \n",
       "min         0.000000  \n",
       "25%         4.000000  \n",
       "50%         6.000000  \n",
       "75%         8.000000  \n",
       "max        99.000000  \n",
       "\n",
       "[8 rows x 288 columns]"
      ]
     },
     "execution_count": 87,
     "metadata": {},
     "output_type": "execute_result"
    }
   ],
   "source": [
    "subset.describe()"
   ]
  },
  {
   "cell_type": "markdown",
   "metadata": {},
   "source": [
    "We can see above that some features have missing values: age, wealth2, numchld. Let's assume all the neighborhood characteristics have no NaN and that they're reasonable."
   ]
  },
  {
   "cell_type": "markdown",
   "metadata": {},
   "source": [
    "### Decode"
   ]
  },
  {
   "cell_type": "code",
   "execution_count": 88,
   "metadata": {},
   "outputs": [
    {
     "data": {
      "text/plain": [
       "array(['XXXX', 'D2CM', 'D1CM', 'C1CM', 'C2LM', 'L1CM', 'I1CM', 'L1LM',\n",
       "       'C2CM', 'I1LM', 'D5MM', 'C1LM', 'D5TM', 'L2CM', 'C5CM', 'D5CM',\n",
       "       'I2CM', 'C2MM', 'D2MM', 'C5MM', 'C1MM', 'C5TM', 'I5MM', 'I2MM',\n",
       "       'I5CM', 'L2TM', 'L1MM', 'L2LM'], dtype=object)"
      ]
     },
     "execution_count": 88,
     "metadata": {},
     "output_type": "execute_result"
    }
   ],
   "source": [
    "#decode mdmaud\n",
    "subset.mdmaud.unique()"
   ]
  },
  {
   "cell_type": "code",
   "execution_count": 89,
   "metadata": {},
   "outputs": [
    {
     "name": "stderr",
     "output_type": "stream",
     "text": [
      "/home/tim_kartawijaya/anaconda3/lib/python3.6/site-packages/ipykernel_launcher.py:1: SettingWithCopyWarning: \n",
      "A value is trying to be set on a copy of a slice from a DataFrame.\n",
      "Try using .loc[row_indexer,col_indexer] = value instead\n",
      "\n",
      "See the caveats in the documentation: http://pandas.pydata.org/pandas-docs/stable/indexing.html#indexing-view-versus-copy\n",
      "  \"\"\"Entry point for launching an IPython kernel.\n",
      "/home/tim_kartawijaya/anaconda3/lib/python3.6/site-packages/ipykernel_launcher.py:2: SettingWithCopyWarning: \n",
      "A value is trying to be set on a copy of a slice from a DataFrame.\n",
      "Try using .loc[row_indexer,col_indexer] = value instead\n",
      "\n",
      "See the caveats in the documentation: http://pandas.pydata.org/pandas-docs/stable/indexing.html#indexing-view-versus-copy\n",
      "  \n",
      "/home/tim_kartawijaya/anaconda3/lib/python3.6/site-packages/ipykernel_launcher.py:3: SettingWithCopyWarning: \n",
      "A value is trying to be set on a copy of a slice from a DataFrame.\n",
      "Try using .loc[row_indexer,col_indexer] = value instead\n",
      "\n",
      "See the caveats in the documentation: http://pandas.pydata.org/pandas-docs/stable/indexing.html#indexing-view-versus-copy\n",
      "  This is separate from the ipykernel package so we can avoid doing imports until\n"
     ]
    }
   ],
   "source": [
    "subset[\"recency\"] = [x[0] for x in subset.mdmaud.values]\n",
    "subset[\"frequency\"] = [x[1] for x in subset.mdmaud.values]\n",
    "subset[\"amount\"] = [x[2] for x in subset.mdmaud.values]"
   ]
  },
  {
   "cell_type": "code",
   "execution_count": 90,
   "metadata": {},
   "outputs": [
    {
     "name": "stderr",
     "output_type": "stream",
     "text": [
      "/home/tim_kartawijaya/anaconda3/lib/python3.6/site-packages/ipykernel_launcher.py:2: SettingWithCopyWarning: \n",
      "A value is trying to be set on a copy of a slice from a DataFrame.\n",
      "Try using .loc[row_indexer,col_indexer] = value instead\n",
      "\n",
      "See the caveats in the documentation: http://pandas.pydata.org/pandas-docs/stable/indexing.html#indexing-view-versus-copy\n",
      "  \n",
      "/home/tim_kartawijaya/anaconda3/lib/python3.6/site-packages/ipykernel_launcher.py:3: SettingWithCopyWarning: \n",
      "A value is trying to be set on a copy of a slice from a DataFrame.\n",
      "Try using .loc[row_indexer,col_indexer] = value instead\n",
      "\n",
      "See the caveats in the documentation: http://pandas.pydata.org/pandas-docs/stable/indexing.html#indexing-view-versus-copy\n",
      "  This is separate from the ipykernel package so we can avoid doing imports until\n"
     ]
    }
   ],
   "source": [
    "#decode domain\n",
    "subset[\"urbanicity\"] = [x[0] for x in subset.domain.values]\n",
    "subset[\"neighborhood_status\"] = [x[1] if x != ' ' else \"X\" for x in subset.domain.values] #remove one missing value"
   ]
  },
  {
   "cell_type": "code",
   "execution_count": 91,
   "metadata": {},
   "outputs": [],
   "source": [
    "#add into categorical features\n",
    "cat_features += [\"urbanicity\",\"neighborhood_status\",\"recency\",\"frequency\",\"amount\"]"
   ]
  },
  {
   "cell_type": "markdown",
   "metadata": {},
   "source": [
    "### Impute Missing Values"
   ]
  },
  {
   "cell_type": "markdown",
   "metadata": {},
   "source": [
    "### Categorical Values"
   ]
  },
  {
   "cell_type": "code",
   "execution_count": 92,
   "metadata": {},
   "outputs": [
    {
     "name": "stderr",
     "output_type": "stream",
     "text": [
      "/home/tim_kartawijaya/anaconda3/lib/python3.6/site-packages/pandas/core/generic.py:4401: SettingWithCopyWarning: \n",
      "A value is trying to be set on a copy of a slice from a DataFrame.\n",
      "Try using .loc[row_indexer,col_indexer] = value instead\n",
      "\n",
      "See the caveats in the documentation: http://pandas.pydata.org/pandas-docs/stable/indexing.html#indexing-view-versus-copy\n",
      "  self[name] = value\n"
     ]
    }
   ],
   "source": [
    "#make gender into three categories\n",
    "subset.gender = [\"Other\" if x != \"F\" and x != \"M\" else x for x in subset.gender.values]"
   ]
  },
  {
   "cell_type": "markdown",
   "metadata": {},
   "source": [
    "#### Numerical Values"
   ]
  },
  {
   "cell_type": "markdown",
   "metadata": {},
   "source": [
    "We will use sklearn's Imputer for this case and use the median strategy.\n",
    "\n",
    "TO DO:\n",
    "- use a better imputer strategy (quick regression)"
   ]
  },
  {
   "cell_type": "code",
   "execution_count": 93,
   "metadata": {},
   "outputs": [
    {
     "data": {
      "text/html": [
       "<div>\n",
       "<style scoped>\n",
       "    .dataframe tbody tr th:only-of-type {\n",
       "        vertical-align: middle;\n",
       "    }\n",
       "\n",
       "    .dataframe tbody tr th {\n",
       "        vertical-align: top;\n",
       "    }\n",
       "\n",
       "    .dataframe thead th {\n",
       "        text-align: right;\n",
       "    }\n",
       "</style>\n",
       "<table border=\"1\" class=\"dataframe\">\n",
       "  <thead>\n",
       "    <tr style=\"text-align: right;\">\n",
       "      <th></th>\n",
       "      <th>title</th>\n",
       "      <th>mdmaud</th>\n",
       "      <th>domain</th>\n",
       "      <th>gender</th>\n",
       "      <th>rfa_2f</th>\n",
       "      <th>rfa_2r</th>\n",
       "      <th>rfa_2a</th>\n",
       "      <th>numchld</th>\n",
       "      <th>wealth2</th>\n",
       "      <th>age</th>\n",
       "      <th>...</th>\n",
       "      <th>hc21</th>\n",
       "      <th>mhuc1</th>\n",
       "      <th>mhuc2</th>\n",
       "      <th>ac1</th>\n",
       "      <th>ac2</th>\n",
       "      <th>recency</th>\n",
       "      <th>frequency</th>\n",
       "      <th>amount</th>\n",
       "      <th>urbanicity</th>\n",
       "      <th>neighborhood_status</th>\n",
       "    </tr>\n",
       "  </thead>\n",
       "  <tbody>\n",
       "    <tr>\n",
       "      <th>0</th>\n",
       "      <td>0</td>\n",
       "      <td>XXXX</td>\n",
       "      <td>C1</td>\n",
       "      <td>F</td>\n",
       "      <td>3</td>\n",
       "      <td>L</td>\n",
       "      <td>D</td>\n",
       "      <td>NaN</td>\n",
       "      <td>9.0</td>\n",
       "      <td>29.0</td>\n",
       "      <td>...</td>\n",
       "      <td>99</td>\n",
       "      <td>9</td>\n",
       "      <td>2</td>\n",
       "      <td>8</td>\n",
       "      <td>9</td>\n",
       "      <td>X</td>\n",
       "      <td>X</td>\n",
       "      <td>X</td>\n",
       "      <td>C</td>\n",
       "      <td>1</td>\n",
       "    </tr>\n",
       "    <tr>\n",
       "      <th>1</th>\n",
       "      <td>2</td>\n",
       "      <td>XXXX</td>\n",
       "      <td>C3</td>\n",
       "      <td>F</td>\n",
       "      <td>2</td>\n",
       "      <td>L</td>\n",
       "      <td>F</td>\n",
       "      <td>2.0</td>\n",
       "      <td>NaN</td>\n",
       "      <td>57.0</td>\n",
       "      <td>...</td>\n",
       "      <td>99</td>\n",
       "      <td>7</td>\n",
       "      <td>2</td>\n",
       "      <td>9</td>\n",
       "      <td>10</td>\n",
       "      <td>X</td>\n",
       "      <td>X</td>\n",
       "      <td>X</td>\n",
       "      <td>C</td>\n",
       "      <td>3</td>\n",
       "    </tr>\n",
       "    <tr>\n",
       "      <th>2</th>\n",
       "      <td>28</td>\n",
       "      <td>XXXX</td>\n",
       "      <td>C2</td>\n",
       "      <td>F</td>\n",
       "      <td>3</td>\n",
       "      <td>L</td>\n",
       "      <td>E</td>\n",
       "      <td>NaN</td>\n",
       "      <td>NaN</td>\n",
       "      <td>NaN</td>\n",
       "      <td>...</td>\n",
       "      <td>98</td>\n",
       "      <td>10</td>\n",
       "      <td>4</td>\n",
       "      <td>4</td>\n",
       "      <td>3</td>\n",
       "      <td>X</td>\n",
       "      <td>X</td>\n",
       "      <td>X</td>\n",
       "      <td>C</td>\n",
       "      <td>2</td>\n",
       "    </tr>\n",
       "    <tr>\n",
       "      <th>4</th>\n",
       "      <td>0</td>\n",
       "      <td>XXXX</td>\n",
       "      <td>T2</td>\n",
       "      <td>F</td>\n",
       "      <td>1</td>\n",
       "      <td>L</td>\n",
       "      <td>G</td>\n",
       "      <td>NaN</td>\n",
       "      <td>8.0</td>\n",
       "      <td>55.0</td>\n",
       "      <td>...</td>\n",
       "      <td>99</td>\n",
       "      <td>7</td>\n",
       "      <td>2</td>\n",
       "      <td>4</td>\n",
       "      <td>4</td>\n",
       "      <td>X</td>\n",
       "      <td>X</td>\n",
       "      <td>X</td>\n",
       "      <td>T</td>\n",
       "      <td>2</td>\n",
       "    </tr>\n",
       "    <tr>\n",
       "      <th>5</th>\n",
       "      <td>1</td>\n",
       "      <td>XXXX</td>\n",
       "      <td>C2</td>\n",
       "      <td>M</td>\n",
       "      <td>2</td>\n",
       "      <td>L</td>\n",
       "      <td>E</td>\n",
       "      <td>NaN</td>\n",
       "      <td>4.0</td>\n",
       "      <td>81.0</td>\n",
       "      <td>...</td>\n",
       "      <td>98</td>\n",
       "      <td>5</td>\n",
       "      <td>2</td>\n",
       "      <td>0</td>\n",
       "      <td>5</td>\n",
       "      <td>X</td>\n",
       "      <td>X</td>\n",
       "      <td>X</td>\n",
       "      <td>C</td>\n",
       "      <td>2</td>\n",
       "    </tr>\n",
       "  </tbody>\n",
       "</table>\n",
       "<p>5 rows × 298 columns</p>\n",
       "</div>"
      ],
      "text/plain": [
       "   title mdmaud domain gender  rfa_2f rfa_2r rfa_2a  numchld  wealth2   age  \\\n",
       "0      0   XXXX     C1      F       3      L      D      NaN      9.0  29.0   \n",
       "1      2   XXXX     C3      F       2      L      F      2.0      NaN  57.0   \n",
       "2     28   XXXX     C2      F       3      L      E      NaN      NaN   NaN   \n",
       "4      0   XXXX     T2      F       1      L      G      NaN      8.0  55.0   \n",
       "5      1   XXXX     C2      M       2      L      E      NaN      4.0  81.0   \n",
       "\n",
       "          ...           hc21  mhuc1  mhuc2  ac1  ac2  recency  frequency  \\\n",
       "0         ...             99      9      2    8    9        X          X   \n",
       "1         ...             99      7      2    9   10        X          X   \n",
       "2         ...             98     10      4    4    3        X          X   \n",
       "4         ...             99      7      2    4    4        X          X   \n",
       "5         ...             98      5      2    0    5        X          X   \n",
       "\n",
       "   amount  urbanicity  neighborhood_status  \n",
       "0       X           C                    1  \n",
       "1       X           C                    3  \n",
       "2       X           C                    2  \n",
       "4       X           T                    2  \n",
       "5       X           C                    2  \n",
       "\n",
       "[5 rows x 298 columns]"
      ]
     },
     "execution_count": 93,
     "metadata": {},
     "output_type": "execute_result"
    }
   ],
   "source": [
    "subset.head()"
   ]
  },
  {
   "cell_type": "code",
   "execution_count": 94,
   "metadata": {},
   "outputs": [
    {
     "name": "stderr",
     "output_type": "stream",
     "text": [
      "/home/tim_kartawijaya/anaconda3/lib/python3.6/site-packages/pandas/core/generic.py:4401: SettingWithCopyWarning: \n",
      "A value is trying to be set on a copy of a slice from a DataFrame.\n",
      "Try using .loc[row_indexer,col_indexer] = value instead\n",
      "\n",
      "See the caveats in the documentation: http://pandas.pydata.org/pandas-docs/stable/indexing.html#indexing-view-versus-copy\n",
      "  self[name] = value\n"
     ]
    }
   ],
   "source": [
    "from sklearn.preprocessing import Imputer\n",
    "\n",
    "#Impute numerical columns\n",
    "def impute_num(data, strategy, columns_to_impute):\n",
    "    \n",
    "    df = data.copy()\n",
    "    \n",
    "    imputer = Imputer(strategy = strategy)\n",
    "    \n",
    "    for column in columns_to_impute:\n",
    "        df[[column]] = imputer.fit_transform(df[[column]])\n",
    "    \n",
    "    return df\n",
    "\n",
    "#for numchild, assume no child\n",
    "subset.numchld = subset.age.fillna(0)\n",
    "\n",
    "#for wealth, assume middle class\n",
    "subset.wealth2 = subset.age.fillna(5)\n",
    "\n",
    "#impute median for age\n",
    "subset = impute_num(subset, \"median\", [\"age\"])"
   ]
  },
  {
   "cell_type": "markdown",
   "metadata": {},
   "source": [
    "### One hot Encode Categorical Values\n",
    "\n",
    "Before we hot-encode, let's double check the categorical features"
   ]
  },
  {
   "cell_type": "code",
   "execution_count": 95,
   "metadata": {},
   "outputs": [
    {
     "data": {
      "text/html": [
       "<div>\n",
       "<style scoped>\n",
       "    .dataframe tbody tr th:only-of-type {\n",
       "        vertical-align: middle;\n",
       "    }\n",
       "\n",
       "    .dataframe tbody tr th {\n",
       "        vertical-align: top;\n",
       "    }\n",
       "\n",
       "    .dataframe thead th {\n",
       "        text-align: right;\n",
       "    }\n",
       "</style>\n",
       "<table border=\"1\" class=\"dataframe\">\n",
       "  <thead>\n",
       "    <tr style=\"text-align: right;\">\n",
       "      <th></th>\n",
       "      <th>mdmaud</th>\n",
       "      <th>domain</th>\n",
       "      <th>gender</th>\n",
       "      <th>rfa_2r</th>\n",
       "      <th>rfa_2a</th>\n",
       "      <th>urbanicity</th>\n",
       "      <th>neighborhood_status</th>\n",
       "      <th>recency</th>\n",
       "      <th>frequency</th>\n",
       "      <th>amount</th>\n",
       "    </tr>\n",
       "  </thead>\n",
       "  <tbody>\n",
       "    <tr>\n",
       "      <th>count</th>\n",
       "      <td>348985</td>\n",
       "      <td>348985</td>\n",
       "      <td>348985</td>\n",
       "      <td>348985</td>\n",
       "      <td>348985</td>\n",
       "      <td>348985</td>\n",
       "      <td>348985</td>\n",
       "      <td>348985</td>\n",
       "      <td>348985</td>\n",
       "      <td>348985</td>\n",
       "    </tr>\n",
       "    <tr>\n",
       "      <th>unique</th>\n",
       "      <td>28</td>\n",
       "      <td>17</td>\n",
       "      <td>3</td>\n",
       "      <td>1</td>\n",
       "      <td>4</td>\n",
       "      <td>6</td>\n",
       "      <td>5</td>\n",
       "      <td>5</td>\n",
       "      <td>4</td>\n",
       "      <td>5</td>\n",
       "    </tr>\n",
       "    <tr>\n",
       "      <th>top</th>\n",
       "      <td>XXXX</td>\n",
       "      <td>R2</td>\n",
       "      <td>F</td>\n",
       "      <td>L</td>\n",
       "      <td>F</td>\n",
       "      <td>S</td>\n",
       "      <td>2</td>\n",
       "      <td>X</td>\n",
       "      <td>X</td>\n",
       "      <td>X</td>\n",
       "    </tr>\n",
       "    <tr>\n",
       "      <th>freq</th>\n",
       "      <td>347793</td>\n",
       "      <td>48591</td>\n",
       "      <td>186951</td>\n",
       "      <td>348985</td>\n",
       "      <td>164732</td>\n",
       "      <td>82954</td>\n",
       "      <td>168824</td>\n",
       "      <td>347793</td>\n",
       "      <td>347793</td>\n",
       "      <td>347793</td>\n",
       "    </tr>\n",
       "  </tbody>\n",
       "</table>\n",
       "</div>"
      ],
      "text/plain": [
       "        mdmaud  domain  gender  rfa_2r  rfa_2a urbanicity neighborhood_status  \\\n",
       "count   348985  348985  348985  348985  348985     348985              348985   \n",
       "unique      28      17       3       1       4          6                   5   \n",
       "top       XXXX      R2       F       L       F          S                   2   \n",
       "freq    347793   48591  186951  348985  164732      82954              168824   \n",
       "\n",
       "       recency frequency  amount  \n",
       "count   348985    348985  348985  \n",
       "unique       5         4       5  \n",
       "top          X         X       X  \n",
       "freq    347793    347793  347793  "
      ]
     },
     "execution_count": 95,
     "metadata": {},
     "output_type": "execute_result"
    }
   ],
   "source": [
    "subset[cat_features].describe(include = ['O'])"
   ]
  },
  {
   "cell_type": "code",
   "execution_count": 96,
   "metadata": {},
   "outputs": [
    {
     "data": {
      "text/plain": [
       "array(['F', 'M', 'Other'], dtype=object)"
      ]
     },
     "execution_count": 96,
     "metadata": {},
     "output_type": "execute_result"
    }
   ],
   "source": [
    "subset.gender.unique()"
   ]
  },
  {
   "cell_type": "code",
   "execution_count": 97,
   "metadata": {},
   "outputs": [
    {
     "data": {
      "text/html": [
       "<div>\n",
       "<style scoped>\n",
       "    .dataframe tbody tr th:only-of-type {\n",
       "        vertical-align: middle;\n",
       "    }\n",
       "\n",
       "    .dataframe tbody tr th {\n",
       "        vertical-align: top;\n",
       "    }\n",
       "\n",
       "    .dataframe thead th {\n",
       "        text-align: right;\n",
       "    }\n",
       "</style>\n",
       "<table border=\"1\" class=\"dataframe\">\n",
       "  <thead>\n",
       "    <tr style=\"text-align: right;\">\n",
       "      <th></th>\n",
       "      <th>title</th>\n",
       "      <th>rfa_2f</th>\n",
       "    </tr>\n",
       "  </thead>\n",
       "  <tbody>\n",
       "    <tr>\n",
       "      <th>count</th>\n",
       "      <td>348985.000000</td>\n",
       "      <td>348985.000000</td>\n",
       "    </tr>\n",
       "    <tr>\n",
       "      <th>mean</th>\n",
       "      <td>60.862424</td>\n",
       "      <td>2.024660</td>\n",
       "    </tr>\n",
       "    <tr>\n",
       "      <th>std</th>\n",
       "      <td>1018.306569</td>\n",
       "      <td>1.111574</td>\n",
       "    </tr>\n",
       "    <tr>\n",
       "      <th>min</th>\n",
       "      <td>0.000000</td>\n",
       "      <td>1.000000</td>\n",
       "    </tr>\n",
       "    <tr>\n",
       "      <th>25%</th>\n",
       "      <td>0.000000</td>\n",
       "      <td>1.000000</td>\n",
       "    </tr>\n",
       "    <tr>\n",
       "      <th>50%</th>\n",
       "      <td>1.000000</td>\n",
       "      <td>2.000000</td>\n",
       "    </tr>\n",
       "    <tr>\n",
       "      <th>75%</th>\n",
       "      <td>2.000000</td>\n",
       "      <td>3.000000</td>\n",
       "    </tr>\n",
       "    <tr>\n",
       "      <th>max</th>\n",
       "      <td>72002.000000</td>\n",
       "      <td>4.000000</td>\n",
       "    </tr>\n",
       "  </tbody>\n",
       "</table>\n",
       "</div>"
      ],
      "text/plain": [
       "               title         rfa_2f\n",
       "count  348985.000000  348985.000000\n",
       "mean       60.862424       2.024660\n",
       "std      1018.306569       1.111574\n",
       "min         0.000000       1.000000\n",
       "25%         0.000000       1.000000\n",
       "50%         1.000000       2.000000\n",
       "75%         2.000000       3.000000\n",
       "max     72002.000000       4.000000"
      ]
     },
     "execution_count": 97,
     "metadata": {},
     "output_type": "execute_result"
    }
   ],
   "source": [
    "subset[cat_features].describe()"
   ]
  },
  {
   "cell_type": "code",
   "execution_count": 98,
   "metadata": {},
   "outputs": [],
   "source": [
    "# drop domain code since not needed anymore\n",
    "subset = subset.drop(columns = \"domain\", axis = 1)\n",
    "\n",
    "#drop mdmaud since not needed anymore\n",
    "subset = subset.drop(columns = \"mdmaud\", axis = 1)"
   ]
  },
  {
   "cell_type": "code",
   "execution_count": 99,
   "metadata": {},
   "outputs": [],
   "source": [
    "cat_features = [x for x in cat_features if x not in ('domain', 'mdmaud')]"
   ]
  },
  {
   "cell_type": "code",
   "execution_count": 100,
   "metadata": {},
   "outputs": [],
   "source": [
    "def encode_dummies(df, columns_to_encode): \n",
    "    return pd.get_dummies(df, prefix = columns_to_encode, columns = columns_to_encode)\n",
    "\n",
    "\n",
    "subset = encode_dummies(subset, cat_features)"
   ]
  },
  {
   "cell_type": "markdown",
   "metadata": {},
   "source": [
    "### Scale Numerical Values\n",
    "\n",
    "This will help our dimension reduction."
   ]
  },
  {
   "cell_type": "code",
   "execution_count": 101,
   "metadata": {},
   "outputs": [],
   "source": [
    "from sklearn.preprocessing import MinMaxScaler\n",
    "\n",
    "def scaler(data, columns_to_scale):\n",
    "    \n",
    "    df = data.copy()\n",
    "    scaler = MinMaxScaler()\n",
    "    \n",
    "    for column in columns_to_scale:\n",
    "        df[[column]] = scaler.fit_transform(df[[column]])\n",
    "        \n",
    "    return df \n",
    "\n",
    "subset = scaler(subset, num_features)"
   ]
  },
  {
   "cell_type": "markdown",
   "metadata": {},
   "source": [
    "### Reduce Dimensions of Numerical Values"
   ]
  },
  {
   "cell_type": "markdown",
   "metadata": {},
   "source": [
    "We only do PCA for numerical values since for binary data we would not achieve an accurate representation for the data."
   ]
  },
  {
   "cell_type": "code",
   "execution_count": 102,
   "metadata": {},
   "outputs": [
    {
     "data": {
      "text/html": [
       "<div>\n",
       "<style scoped>\n",
       "    .dataframe tbody tr th:only-of-type {\n",
       "        vertical-align: middle;\n",
       "    }\n",
       "\n",
       "    .dataframe tbody tr th {\n",
       "        vertical-align: top;\n",
       "    }\n",
       "\n",
       "    .dataframe thead th {\n",
       "        text-align: right;\n",
       "    }\n",
       "</style>\n",
       "<table border=\"1\" class=\"dataframe\">\n",
       "  <thead>\n",
       "    <tr style=\"text-align: right;\">\n",
       "      <th></th>\n",
       "      <th>numchld</th>\n",
       "      <th>wealth2</th>\n",
       "      <th>age</th>\n",
       "      <th>pop901</th>\n",
       "      <th>pop902</th>\n",
       "      <th>pop903</th>\n",
       "      <th>pop90c1</th>\n",
       "      <th>pop90c2</th>\n",
       "      <th>pop90c3</th>\n",
       "      <th>pop90c4</th>\n",
       "      <th>...</th>\n",
       "      <th>recency_X</th>\n",
       "      <th>frequency_1</th>\n",
       "      <th>frequency_2</th>\n",
       "      <th>frequency_5</th>\n",
       "      <th>frequency_X</th>\n",
       "      <th>amount_C</th>\n",
       "      <th>amount_L</th>\n",
       "      <th>amount_M</th>\n",
       "      <th>amount_T</th>\n",
       "      <th>amount_X</th>\n",
       "    </tr>\n",
       "  </thead>\n",
       "  <tbody>\n",
       "    <tr>\n",
       "      <th>0</th>\n",
       "      <td>0.295918</td>\n",
       "      <td>0.288660</td>\n",
       "      <td>0.288660</td>\n",
       "      <td>0.018592</td>\n",
       "      <td>0.024615</td>\n",
       "      <td>0.022992</td>\n",
       "      <td>1.000000</td>\n",
       "      <td>0.0</td>\n",
       "      <td>0.000000</td>\n",
       "      <td>0.464646</td>\n",
       "      <td>...</td>\n",
       "      <td>1</td>\n",
       "      <td>0</td>\n",
       "      <td>0</td>\n",
       "      <td>0</td>\n",
       "      <td>1</td>\n",
       "      <td>0</td>\n",
       "      <td>0</td>\n",
       "      <td>0</td>\n",
       "      <td>0</td>\n",
       "      <td>1</td>\n",
       "    </tr>\n",
       "    <tr>\n",
       "      <th>1</th>\n",
       "      <td>0.581633</td>\n",
       "      <td>0.577320</td>\n",
       "      <td>0.577320</td>\n",
       "      <td>0.011023</td>\n",
       "      <td>0.011782</td>\n",
       "      <td>0.014349</td>\n",
       "      <td>1.000000</td>\n",
       "      <td>0.0</td>\n",
       "      <td>0.000000</td>\n",
       "      <td>0.494949</td>\n",
       "      <td>...</td>\n",
       "      <td>1</td>\n",
       "      <td>0</td>\n",
       "      <td>0</td>\n",
       "      <td>0</td>\n",
       "      <td>1</td>\n",
       "      <td>0</td>\n",
       "      <td>0</td>\n",
       "      <td>0</td>\n",
       "      <td>0</td>\n",
       "      <td>1</td>\n",
       "    </tr>\n",
       "    <tr>\n",
       "      <th>2</th>\n",
       "      <td>0.000000</td>\n",
       "      <td>0.041237</td>\n",
       "      <td>0.639175</td>\n",
       "      <td>0.078277</td>\n",
       "      <td>0.076748</td>\n",
       "      <td>0.098099</td>\n",
       "      <td>1.000000</td>\n",
       "      <td>0.0</td>\n",
       "      <td>0.000000</td>\n",
       "      <td>0.464646</td>\n",
       "      <td>...</td>\n",
       "      <td>1</td>\n",
       "      <td>0</td>\n",
       "      <td>0</td>\n",
       "      <td>0</td>\n",
       "      <td>1</td>\n",
       "      <td>0</td>\n",
       "      <td>0</td>\n",
       "      <td>0</td>\n",
       "      <td>0</td>\n",
       "      <td>1</td>\n",
       "    </tr>\n",
       "    <tr>\n",
       "      <th>4</th>\n",
       "      <td>0.561224</td>\n",
       "      <td>0.556701</td>\n",
       "      <td>0.556701</td>\n",
       "      <td>0.066261</td>\n",
       "      <td>0.077464</td>\n",
       "      <td>0.069486</td>\n",
       "      <td>0.787879</td>\n",
       "      <td>0.0</td>\n",
       "      <td>0.222222</td>\n",
       "      <td>0.484848</td>\n",
       "      <td>...</td>\n",
       "      <td>1</td>\n",
       "      <td>0</td>\n",
       "      <td>0</td>\n",
       "      <td>0</td>\n",
       "      <td>1</td>\n",
       "      <td>0</td>\n",
       "      <td>0</td>\n",
       "      <td>0</td>\n",
       "      <td>0</td>\n",
       "      <td>1</td>\n",
       "    </tr>\n",
       "    <tr>\n",
       "      <th>5</th>\n",
       "      <td>0.826531</td>\n",
       "      <td>0.824742</td>\n",
       "      <td>0.824742</td>\n",
       "      <td>0.007791</td>\n",
       "      <td>0.008163</td>\n",
       "      <td>0.009717</td>\n",
       "      <td>1.000000</td>\n",
       "      <td>0.0</td>\n",
       "      <td>0.000000</td>\n",
       "      <td>0.474747</td>\n",
       "      <td>...</td>\n",
       "      <td>1</td>\n",
       "      <td>0</td>\n",
       "      <td>0</td>\n",
       "      <td>0</td>\n",
       "      <td>1</td>\n",
       "      <td>0</td>\n",
       "      <td>0</td>\n",
       "      <td>0</td>\n",
       "      <td>0</td>\n",
       "      <td>1</td>\n",
       "    </tr>\n",
       "  </tbody>\n",
       "</table>\n",
       "<p>5 rows × 379 columns</p>\n",
       "</div>"
      ],
      "text/plain": [
       "    numchld   wealth2       age    pop901    pop902    pop903   pop90c1  \\\n",
       "0  0.295918  0.288660  0.288660  0.018592  0.024615  0.022992  1.000000   \n",
       "1  0.581633  0.577320  0.577320  0.011023  0.011782  0.014349  1.000000   \n",
       "2  0.000000  0.041237  0.639175  0.078277  0.076748  0.098099  1.000000   \n",
       "4  0.561224  0.556701  0.556701  0.066261  0.077464  0.069486  0.787879   \n",
       "5  0.826531  0.824742  0.824742  0.007791  0.008163  0.009717  1.000000   \n",
       "\n",
       "   pop90c2   pop90c3   pop90c4    ...     recency_X  frequency_1  frequency_2  \\\n",
       "0      0.0  0.000000  0.464646    ...             1            0            0   \n",
       "1      0.0  0.000000  0.494949    ...             1            0            0   \n",
       "2      0.0  0.000000  0.464646    ...             1            0            0   \n",
       "4      0.0  0.222222  0.484848    ...             1            0            0   \n",
       "5      0.0  0.000000  0.474747    ...             1            0            0   \n",
       "\n",
       "   frequency_5  frequency_X  amount_C  amount_L  amount_M  amount_T  amount_X  \n",
       "0            0            1         0         0         0         0         1  \n",
       "1            0            1         0         0         0         0         1  \n",
       "2            0            1         0         0         0         0         1  \n",
       "4            0            1         0         0         0         0         1  \n",
       "5            0            1         0         0         0         0         1  \n",
       "\n",
       "[5 rows x 379 columns]"
      ]
     },
     "execution_count": 102,
     "metadata": {},
     "output_type": "execute_result"
    }
   ],
   "source": [
    "subset.head()"
   ]
  },
  {
   "cell_type": "code",
   "execution_count": 103,
   "metadata": {},
   "outputs": [
    {
     "data": {
      "text/plain": [
       "array([[ 0.72365942, -0.1472508 , -0.4659292 , ...,  0.12601657,\n",
       "        -0.10672132,  0.18731442],\n",
       "       [-0.53526081,  0.6966524 , -0.02231325, ...,  0.03170666,\n",
       "         0.4611634 , -0.10498123],\n",
       "       [ 0.03972832,  0.87269803,  1.25856537, ..., -0.14022146,\n",
       "         0.09856285, -0.18756773],\n",
       "       ...,\n",
       "       [-0.25272633, -1.37638766,  0.38094027, ..., -0.03152259,\n",
       "        -0.01516832, -0.13293231],\n",
       "       [ 1.89723255, -0.839615  , -0.68220942, ...,  0.1066986 ,\n",
       "         0.07683099,  0.00905444],\n",
       "       [-1.56947797, -0.07552519, -0.4139631 , ..., -0.01896723,\n",
       "         0.10015638,  0.02556052]])"
      ]
     },
     "execution_count": 103,
     "metadata": {},
     "output_type": "execute_result"
    }
   ],
   "source": [
    "from sklearn.decomposition import PCA\n",
    "pca = PCA(n_components = 0.90)\n",
    "\n",
    "subset_num = subset[num_features]\n",
    "subset_num_reduced = pca.fit_transform(subset_num)\n",
    "subset_num_reduced"
   ]
  },
  {
   "cell_type": "code",
   "execution_count": 104,
   "metadata": {},
   "outputs": [
    {
     "data": {
      "text/plain": [
       "array([1.24422328, 0.79536281, 0.49890718, 0.35153678, 0.26959322,\n",
       "       0.21403161, 0.1796066 , 0.17206147, 0.16470201, 0.11484887,\n",
       "       0.10580487, 0.095935  , 0.08412829, 0.06884408, 0.06123981,\n",
       "       0.0560617 , 0.05241656, 0.04607383, 0.0439153 , 0.03874204,\n",
       "       0.03710803, 0.03331658, 0.02833882, 0.02722285, 0.0249037 ,\n",
       "       0.02327648, 0.02267779, 0.02034576, 0.01974198, 0.018518  ,\n",
       "       0.01802544])"
      ]
     },
     "execution_count": 104,
     "metadata": {},
     "output_type": "execute_result"
    }
   ],
   "source": [
    "pca.explained_variance_"
   ]
  },
  {
   "cell_type": "code",
   "execution_count": 105,
   "metadata": {},
   "outputs": [],
   "source": [
    "#drop previous columns, add in components\n",
    "subset_final = subset.drop(columns = num_features, axis = 1)\n",
    "subset_final = subset_final.join(pd.DataFrame(subset_num_reduced).iloc[:,0:11])"
   ]
  },
  {
   "cell_type": "markdown",
   "metadata": {},
   "source": [
    "### Split back to Train and Test"
   ]
  },
  {
   "cell_type": "code",
   "execution_count": 109,
   "metadata": {},
   "outputs": [
    {
     "data": {
      "text/plain": [
       "(339396,)"
      ]
     },
     "execution_count": 109,
     "metadata": {},
     "output_type": "execute_result"
    }
   ],
   "source": [
    "y_train.shape"
   ]
  },
  {
   "cell_type": "code",
   "execution_count": 112,
   "metadata": {},
   "outputs": [
    {
     "name": "stdout",
     "output_type": "stream",
     "text": [
      "(339396, 104)\n",
      "(9589, 104)\n"
     ]
    }
   ],
   "source": [
    "X_train = subset_final.iloc[0:339396]\n",
    "X_test = subset_final.iloc[339396:subset_final.shape[0]]\n",
    "print(X_train.shape)\n",
    "print(X_test.shape)"
   ]
  },
  {
   "cell_type": "markdown",
   "metadata": {},
   "source": [
    "# 5. Train Model / Tune it\n",
    "\n",
    "Let us first start with a baseline classification algorithm: a **logistic regression**. NOTE: logistic regression did not converge, which made sense as logistic regression is not meant for high dimension"
   ]
  },
  {
   "cell_type": "code",
   "execution_count": 113,
   "metadata": {},
   "outputs": [],
   "source": [
    "# from sklearn.linear_model import LogisticRegression\n",
    "# clf = LogisticRegression(random_state = 0, solver = 'sag', verbose = 1) #sag faster for large datasets\n",
    "# clf.fit(X_pretrain, y_pretrain)"
   ]
  },
  {
   "cell_type": "markdown",
   "metadata": {},
   "source": [
    "For a baseline, we will have a model that predicts the variable randomly. (Random Generator from 0 to 1)"
   ]
  },
  {
   "cell_type": "code",
   "execution_count": 120,
   "metadata": {},
   "outputs": [
    {
     "data": {
      "text/plain": [
       "0.5005242447317845"
      ]
     },
     "execution_count": 120,
     "metadata": {},
     "output_type": "execute_result"
    }
   ],
   "source": [
    "import random\n",
    "y_pred = np.random.randint(2, size=len(y_train))\n",
    "\n",
    "from sklearn.metrics import recall_score\n",
    "recall_score(y_train, y_pred, average=\"macro\")"
   ]
  },
  {
   "cell_type": "markdown",
   "metadata": {},
   "source": [
    "Finally, let's try out a **Random Forest Classifier**."
   ]
  },
  {
   "cell_type": "code",
   "execution_count": 114,
   "metadata": {},
   "outputs": [
    {
     "data": {
      "text/plain": [
       "RandomForestClassifier(bootstrap=True, class_weight=None, criterion='gini',\n",
       "            max_depth=10, max_features='auto', max_leaf_nodes=None,\n",
       "            min_impurity_decrease=0.0, min_impurity_split=None,\n",
       "            min_samples_leaf=1, min_samples_split=2,\n",
       "            min_weight_fraction_leaf=0.0, n_estimators=100, n_jobs=1,\n",
       "            oob_score=False, random_state=0, verbose=0, warm_start=False)"
      ]
     },
     "execution_count": 114,
     "metadata": {},
     "output_type": "execute_result"
    }
   ],
   "source": [
    "from sklearn.ensemble import RandomForestClassifier\n",
    "rfc = RandomForestClassifier(n_estimators = 100, max_depth = 10, random_state = 0)\n",
    "rfc.fit(X_train, y_train)"
   ]
  },
  {
   "cell_type": "markdown",
   "metadata": {},
   "source": [
    "### Cross-Validate and Tune the Model"
   ]
  },
  {
   "cell_type": "markdown",
   "metadata": {},
   "source": [
    "TO DO: \n",
    "- Tune the dataset"
   ]
  },
  {
   "cell_type": "code",
   "execution_count": 100,
   "metadata": {},
   "outputs": [],
   "source": [
    "#Grid-Search parameters\n"
   ]
  },
  {
   "cell_type": "markdown",
   "metadata": {},
   "source": [
    "# 6. Evaluate the Model"
   ]
  },
  {
   "cell_type": "markdown",
   "metadata": {},
   "source": [
    "In this evaluation, we"
   ]
  },
  {
   "cell_type": "markdown",
   "metadata": {},
   "source": [
    "### Evaluate the Pretest \n",
    "\n",
    "The metrics we will use are ROC/AUC, Precision, Recall, F1."
   ]
  },
  {
   "cell_type": "code",
   "execution_count": 116,
   "metadata": {},
   "outputs": [],
   "source": [
    "from sklearn.model_selection import cross_validate\n",
    "\n",
    "scoring = {'precision' : 'precision_macro',\n",
    "           'recall' : 'recall_macro', \n",
    "           'accuracy' : 'accuracy',\n",
    "           'roc_auc': 'roc_auc'}\n",
    "\n",
    "scores = cross_validate(rfc, X_train, y_train, scoring = scoring, cv = 5, return_train_score = True)"
   ]
  },
  {
   "cell_type": "markdown",
   "metadata": {},
   "source": [
    "SGD Results **not good**: \n",
    "{'fit_time': array([138.87587214, 141.50030422, 136.17024302, 152.12180829,\n",
    "        136.2348361 ]),\n",
    " 'score_time': array([0.29960179, 0.22892308, 0.24707389, 0.25374961, 0.24197674]),\n",
    " 'test_precision': array([0.47722205, 0.47722205, 0.47722205, 0.47723842, 0.47723764]),\n",
    " 'train_precision': array([0.47723004, 0.47723004, 0.47723004, 0.47722595, 0.47722614]),\n",
    " 'test_recall': array([0.5, 0.5, 0.5, 0.5, 0.5]),\n",
    " 'train_recall': array([0.5, 0.5, 0.5, 0.5, 0.5]),\n",
    " 'test_accuracy': array([0.9544441 , 0.9544441 , 0.9544441 , 0.95447684, 0.95447528]),\n",
    " 'train_accuracy': array([0.95446008, 0.95446008, 0.95446008, 0.9544519 , 0.95445229]),\n",
    " 'test_f1': array([0.48834556, 0.48834556, 0.48834556, 0.48835413, 0.48835372]),\n",
    " 'train_f1': array([0.48834974, 0.48834974, 0.48834974, 0.4883476 , 0.4883477 ]),\n",
    " 'test_roc_auc': array([0.48871541, 0.51291833, 0.5078014 , 0.51084327, 0.49734952]),\n",
    " 'train_roc_auc': array([0.50664669, 0.50165642, 0.50319574, 0.49676853, 0.49933318])}"
   ]
  },
  {
   "cell_type": "code",
   "execution_count": 117,
   "metadata": {},
   "outputs": [
    {
     "data": {
      "text/plain": [
       "{'fit_time': array([53.32907581, 51.04806089, 52.99109793, 50.8713851 , 51.64807916]),\n",
       " 'score_time': array([4.10545874, 4.31011844, 4.74526668, 4.5207932 , 4.27778769]),\n",
       " 'test_precision': array([0.49002941, 0.486505  , 0.48131936, 0.49459425, 0.49154836]),\n",
       " 'train_precision': array([0.72286259, 0.74196717, 0.72568797, 0.74386021, 0.74092431]),\n",
       " 'test_recall': array([0.49514208, 0.4945944 , 0.49058444, 0.49748568, 0.49704195]),\n",
       " 'train_recall': array([0.63981011, 0.64454165, 0.64302278, 0.66305481, 0.63021664]),\n",
       " 'test_accuracy': array([0.50405127, 0.50422075, 0.49934442, 0.50657788, 0.50706404]),\n",
       " 'train_accuracy': array([0.6473136 , 0.65234221, 0.65046019, 0.67011274, 0.63856407]),\n",
       " 'test_roc_auc': array([0.49159006, 0.48485496, 0.49477282, 0.49448732, 0.49788929]),\n",
       " 'train_roc_auc': array([0.781916  , 0.79547371, 0.79316329, 0.80487031, 0.79184019])}"
      ]
     },
     "execution_count": 117,
     "metadata": {},
     "output_type": "execute_result"
    }
   ],
   "source": [
    "scores"
   ]
  },
  {
   "cell_type": "markdown",
   "metadata": {},
   "source": [
    "We'd like a model that go beyond 0.5 in roc/auc, recall and precision, as a classifier with such a metric is simply guessing randomly whether a donor will donate or not."
   ]
  },
  {
   "cell_type": "markdown",
   "metadata": {},
   "source": [
    "# 7. Predict the Test Set"
   ]
  },
  {
   "cell_type": "code",
   "execution_count": null,
   "metadata": {},
   "outputs": [],
   "source": [
    "best_model = RandomForestClassifier(n_estimators = 100, max_depth = 2, random_state = 0)\n",
    "best_model.fit(X_train)\n",
    "results = best_model.predict(X_test)"
   ]
  },
  {
   "cell_type": "code",
   "execution_count": null,
   "metadata": {},
   "outputs": [],
   "source": [
    "test = pd.read_csv(\"test.csv\")\n",
    "test.market = results\n",
    "test.to_csv(\"test_predicted.csv\")"
   ]
  },
  {
   "cell_type": "markdown",
   "metadata": {},
   "source": [
    "# 8. Next Steps\n",
    "\n",
    "The classifier still did not produce good results, as it could not exceed a baseline model (randomly choose between 0 and 1). If there were more time, we would try to use more data and find better models to perform prediction. A few things to try: \n",
    "1. Look more into the class imbalance.\n",
    "2. Look into PCA, locate errors. \n",
    "3. Use more data."
   ]
  },
  {
   "cell_type": "code",
   "execution_count": null,
   "metadata": {},
   "outputs": [],
   "source": []
  }
 ],
 "metadata": {
  "kernelspec": {
   "display_name": "Python 3",
   "language": "python",
   "name": "python3"
  },
  "language_info": {
   "codemirror_mode": {
    "name": "ipython",
    "version": 3
   },
   "file_extension": ".py",
   "mimetype": "text/x-python",
   "name": "python",
   "nbconvert_exporter": "python",
   "pygments_lexer": "ipython3",
   "version": "3.6.5"
  }
 },
 "nbformat": 4,
 "nbformat_minor": 2
}
